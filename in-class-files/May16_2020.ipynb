{
 "cells": [
  {
   "cell_type": "code",
   "execution_count": 1,
   "metadata": {},
   "outputs": [],
   "source": [
    "#Finding the median of vals: median is the sum of 3 values minus min & max\n",
    "def median(a,b,c):\n",
    "    med = (a+b+c) - min(a,b,c) - max(a,b,c)\n",
    "    return med"
   ]
  },
  {
   "cell_type": "code",
   "execution_count": 2,
   "metadata": {},
   "outputs": [
    {
     "output_type": "execute_result",
     "data": {
      "text/plain": "6"
     },
     "metadata": {},
     "execution_count": 2
    }
   ],
   "source": [
    "median(5,6,7)"
   ]
  },
  {
   "cell_type": "code",
   "execution_count": 8,
   "metadata": {},
   "outputs": [],
   "source": [
    "def taxiFare(basefare, kms=0):\n",
    "    _140mts = 0.25\n",
    "    _1km = (1000/140) * _140mts\n",
    "    _fare = _1km * kms\n",
    "    _finalfare = _fare + basefare\n",
    "    return round(_finalfare,2)\n"
   ]
  },
  {
   "cell_type": "code",
   "execution_count": 9,
   "metadata": {},
   "outputs": [
    {
     "output_type": "execute_result",
     "data": {
      "text/plain": "7.57"
     },
     "metadata": {},
     "execution_count": 9
    }
   ],
   "source": [
    "taxiFare(4, 2)"
   ]
  },
  {
   "cell_type": "markdown",
   "metadata": {},
   "source": [
    "#### zip function?"
   ]
  },
  {
   "cell_type": "code",
   "execution_count": 11,
   "metadata": {},
   "outputs": [
    {
     "output_type": "stream",
     "name": "stdout",
     "text": "(1, 5)\n(2, 6)\n(3, 7)\n(4, 8)\n"
    }
   ],
   "source": [
    "for i in zip([1,2,3,4], [5,6,7,8]):\n",
    "    print(i) #prints list of tuples"
   ]
  },
  {
   "cell_type": "code",
   "execution_count": 12,
   "metadata": {},
   "outputs": [
    {
     "output_type": "stream",
     "name": "stdout",
     "text": "(1, 5, '!')\n(2, 6, '#')\n(3, 7, '%')\n"
    }
   ],
   "source": [
    "for i in zip([1,2,3,4], [5,6,7], [\"!\",\"#\", \"%\"]):\n",
    "    print(i) "
   ]
  },
  {
   "cell_type": "code",
   "execution_count": null,
   "metadata": {},
   "outputs": [],
   "source": []
  }
 ],
 "metadata": {
  "language_info": {
   "codemirror_mode": {
    "name": "ipython",
    "version": 3
   },
   "file_extension": ".py",
   "mimetype": "text/x-python",
   "name": "python",
   "nbconvert_exporter": "python",
   "pygments_lexer": "ipython3",
   "version": "3.7.4-final"
  },
  "orig_nbformat": 2,
  "kernelspec": {
   "name": "python3",
   "display_name": "Python 3"
  }
 },
 "nbformat": 4,
 "nbformat_minor": 2
}