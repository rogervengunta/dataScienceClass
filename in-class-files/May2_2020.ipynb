{
 "cells": [
  {
   "cell_type": "markdown",
   "metadata": {},
   "source": [
    "### BOOLEAN CONCEPTS - TRUE/FALSE"
   ]
  },
  {
   "cell_type": "code",
   "execution_count": 3,
   "metadata": {},
   "outputs": [
    {
     "output_type": "stream",
     "name": "stdout",
     "text": "<class 'bool'>\nTrue\n"
    }
   ],
   "source": [
    "x = True\n",
    "print(type(x))\n",
    "time_to_get_up = True\n",
    "if time_to_get_up:\n",
    "    print(time_to_get_up)"
   ]
  },
  {
   "cell_type": "code",
   "execution_count": 11,
   "metadata": {},
   "outputs": [
    {
     "output_type": "stream",
     "name": "stdout",
     "text": "True\nFalse\nTrue\nFalse\nTrue\nTrue\nFalse\nFalse\n"
    }
   ],
   "source": [
    "#bool is an inbuilt func - will return true if there is a value;\n",
    "#for empty string or 0 - returns false\n",
    "print(bool(1))\n",
    "print(bool(0))\n",
    "print(bool(\"hello\"))\n",
    "print(bool(\"\"))\n",
    "print(bool(6))\n",
    "print(bool(1>0))\n",
    "print(bool('a'>'b')) #evaluates the ASCII value\n",
    "print(bool('Rob'=='ROB'))"
   ]
  },
  {
   "cell_type": "code",
   "execution_count": 12,
   "metadata": {},
   "outputs": [
    {
     "output_type": "stream",
     "name": "stdout",
     "text": "False\n"
    }
   ],
   "source": [
    "hour = 5\n",
    "time_to_get_up = hour > 6\n",
    "print(time_to_get_up)"
   ]
  },
  {
   "cell_type": "code",
   "execution_count": 13,
   "metadata": {},
   "outputs": [
    {
     "output_type": "execute_result",
     "data": {
      "text/plain": "True"
     },
     "metadata": {},
     "execution_count": 13
    }
   ],
   "source": [
    "True or False"
   ]
  },
  {
   "cell_type": "code",
   "execution_count": 14,
   "metadata": {},
   "outputs": [
    {
     "output_type": "execute_result",
     "data": {
      "text/plain": "False"
     },
     "metadata": {},
     "execution_count": 14
    }
   ],
   "source": [
    "False or False"
   ]
  },
  {
   "cell_type": "code",
   "execution_count": 15,
   "metadata": {},
   "outputs": [
    {
     "output_type": "execute_result",
     "data": {
      "text/plain": "True"
     },
     "metadata": {},
     "execution_count": 15
    }
   ],
   "source": [
    "False or True"
   ]
  },
  {
   "cell_type": "code",
   "execution_count": 16,
   "metadata": {},
   "outputs": [
    {
     "output_type": "stream",
     "name": "stdout",
     "text": "Back to bed!\n"
    }
   ],
   "source": [
    "def wakeMeUp(hr):\n",
    "    if(hr > 6):\n",
    "        print(\"Time to wake up!\")\n",
    "    else:\n",
    "        print(\"Back to bed!\")\n",
    "\n",
    "wakeMeUp(4)"
   ]
  },
  {
   "cell_type": "code",
   "execution_count": 19,
   "metadata": {},
   "outputs": [
    {
     "output_type": "stream",
     "name": "stdout",
     "text": "You entered string\n"
    }
   ],
   "source": [
    "x = input('enter a value:')\n",
    "if(type(x)==int):\n",
    "    print(\"You entered a number\")\n",
    "elif(type(x)==str):\n",
    "    print(\"You entered string\")\n",
    "else:\n",
    "    print(\"unknown entered\")"
   ]
  },
  {
   "cell_type": "code",
   "execution_count": 20,
   "metadata": {},
   "outputs": [
    {
     "output_type": "stream",
     "name": "stdout",
     "text": "This is a leap year:  2020\n"
    }
   ],
   "source": [
    "#Leap year\n",
    "year = int(input('Enter year: '))\n",
    "if(year % 4)== 0:\n",
    "    print(\"This is a leap year: \", year)\n",
    "else:\n",
    "    print(\"This is not a leap year: \", year)"
   ]
  },
  {
   "cell_type": "code",
   "execution_count": 22,
   "metadata": {},
   "outputs": [
    {
     "output_type": "stream",
     "name": "stdout",
     "text": "You are a millenial\n"
    }
   ],
   "source": [
    "#Pew describes those born between 1981 to 1996 as millenials\n",
    "year_of_birth = int(input(\"Enter the year of birth: \"))\n",
    "if(year_of_birth>=1981 and year_of_birth<=1996):\n",
    "    print(\"You are a millenial\")\n",
    "else:\n",
    "    print(\"You are not a millenial\")"
   ]
  },
  {
   "cell_type": "code",
   "execution_count": 24,
   "metadata": {},
   "outputs": [
    {
     "output_type": "stream",
     "name": "stdout",
     "text": "This is an isosceles triangle\n"
    }
   ],
   "source": [
    "bar1 = float(input(\"Enter side1 of triangle: \"))\n",
    "bar2 = float(input(\"Enter side2 of triangle: \"))\n",
    "bar3 = float(input(\"Enter side3 of triangle: \"))\n",
    "\n",
    "if bar1 == bar2 == bar3:\n",
    "    print(\"This is an equilateral triangle\")\n",
    "elif bar1 == bar2 or bar2 == bar3 or bar1 == bar3:\n",
    "    print(\"This is an isosceles triangle\")\n",
    "else: print(\"This is a scalene triangle\")"
   ]
  },
  {
   "cell_type": "code",
   "execution_count": null,
   "metadata": {},
   "outputs": [],
   "source": []
  }
 ],
 "metadata": {
  "language_info": {
   "codemirror_mode": {
    "name": "ipython",
    "version": 3
   },
   "file_extension": ".py",
   "mimetype": "text/x-python",
   "name": "python",
   "nbconvert_exporter": "python",
   "pygments_lexer": "ipython3",
   "version": "3.7.4-final"
  },
  "orig_nbformat": 2,
  "kernelspec": {
   "name": "python3",
   "display_name": "Python 3"
  }
 },
 "nbformat": 4,
 "nbformat_minor": 2
}