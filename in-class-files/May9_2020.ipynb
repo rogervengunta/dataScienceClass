{
 "cells": [
  {
   "cell_type": "markdown",
   "metadata": {},
   "source": [
    "### LOOPING"
   ]
  },
  {
   "cell_type": "markdown",
   "metadata": {},
   "source": [
    "#### TWO TYPES OF LOOPS IN PYTHON:\n",
    "#### WHILE\n",
    "#### FOR"
   ]
  },
  {
   "cell_type": "code",
   "execution_count": 1,
   "metadata": {},
   "outputs": [
    {
     "output_type": "stream",
     "name": "stdout",
     "text": "outside while loop\n"
    }
   ],
   "source": [
    "while False:\n",
    "    print(\"inside while loop\")\n",
    "print(\"outside while loop\")"
   ]
  },
  {
   "cell_type": "code",
   "execution_count": null,
   "metadata": {},
   "outputs": [],
   "source": [
    "#while True: #NEVER DO THIS\n",
    "    #print(\"inside while loop - INFINITE LOOP!\")"
   ]
  },
  {
   "cell_type": "code",
   "execution_count": 3,
   "metadata": {},
   "outputs": [
    {
     "output_type": "stream",
     "name": "stdout",
     "text": "inside loop 0\ninside loop 1\ninside loop 2\ninside loop 3\noutside while\n"
    }
   ],
   "source": [
    "flag = True\n",
    "ifVal = 0\n",
    "\n",
    "while flag:\n",
    "    print(\"inside loop\", ifVal)\n",
    "    ifVal += 1\n",
    "    if ifVal > 3:\n",
    "        flag = False #controls the loop execution\n",
    "print(\"outside while\")"
   ]
  },
  {
   "cell_type": "code",
   "execution_count": 13,
   "metadata": {},
   "outputs": [
    {
     "output_type": "stream",
     "name": "stdout",
     "text": "You're eligible - hop on!\nYou can go for the 1-5 ride\n"
    }
   ],
   "source": [
    "#Exercise: \n",
    "ageFlag = True\n",
    "\n",
    "while(ageFlag):\n",
    "    age = int(input(\"Enter your age: \"))\n",
    "    if age > 18 and age < 60:\n",
    "        print(\"You're eligible - hop on!\")\n",
    "        if age < 40:\n",
    "            print(\"You can go for the 1-5 ride\")\n",
    "        else:\n",
    "            print(\"You can take the 1-4 ride\")\n",
    "        break\n",
    "    else:\n",
    "        ageFlag = False\n",
    "        print(\"Not eligible - try some other activity\")"
   ]
  },
  {
   "cell_type": "code",
   "execution_count": 19,
   "metadata": {},
   "outputs": [
    {
     "output_type": "stream",
     "name": "stdout",
     "text": "The greatest common divisor for numbers  12  and  24 is:  12\n"
    }
   ],
   "source": [
    "#### GCD - greatest common divisor - of 2 +ve ints n & m, is the largest number d\n",
    "#### which divides evenly into both n & m\n",
    "m = int(input(\"Enter first number: \"))\n",
    "n = int(input(\"Enter the second number: \"))\n",
    "d = min(m,n)\n",
    "while n % d != 0 or m % d !=0:\n",
    "    d-=1\n",
    "\n",
    "print(\"The greatest common divisor for numbers \", m, \" and \", n, \"is: \", d)"
   ]
  },
  {
   "cell_type": "code",
   "execution_count": 24,
   "metadata": {},
   "outputs": [
    {
     "output_type": "stream",
     "name": "stdout",
     "text": "Before remove:  ['apples', 'oranges', 'mangoes']\nAfter remove:  ['oranges', 'mangoes']\nBefore remove:  ['oranges', 'mangoes']\nAfter remove:  ['mangoes']\nBefore remove:  ['mangoes']\nAfter remove:  []\n"
    }
   ],
   "source": [
    "myList = [\"apples\", \"oranges\", \"mangoes\"]\n",
    "#type(myList)\n",
    "while len(myList):\n",
    "    x = 0\n",
    "    print(\"Before remove: \", myList)\n",
    "    myList.remove(myList[x])\n",
    "    x = x + 1\n",
    "    print(\"After remove: \", myList)"
   ]
  },
  {
   "cell_type": "code",
   "execution_count": null,
   "metadata": {},
   "outputs": [],
   "source": []
  }
 ],
 "metadata": {
  "language_info": {
   "codemirror_mode": {
    "name": "ipython",
    "version": 3
   },
   "file_extension": ".py",
   "mimetype": "text/x-python",
   "name": "python",
   "nbconvert_exporter": "python",
   "pygments_lexer": "ipython3",
   "version": "3.7.4-final"
  },
  "orig_nbformat": 2,
  "kernelspec": {
   "name": "python3",
   "display_name": "Python 3"
  }
 },
 "nbformat": 4,
 "nbformat_minor": 2
}