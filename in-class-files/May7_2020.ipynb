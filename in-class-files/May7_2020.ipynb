{
 "cells": [
  {
   "cell_type": "markdown",
   "metadata": {},
   "source": [
    "### ZODIAC SIGNS:"
   ]
  },
  {
   "cell_type": "code",
   "execution_count": 7,
   "metadata": {},
   "outputs": [
    {
     "output_type": "stream",
     "name": "stdout",
     "text": "Your zodiac sign is Capricorn!\n"
    }
   ],
   "source": [
    "month = input(\"Enter name of the month: \")\n",
    "day = int(input(\"Enter day of the month: \"))\n",
    "month_in_upper = month.upper()\n",
    "if ((month_in_upper == 'DECEMBER' and day >= 22) or (month_in_upper == 'JANUARY' and day <=19)):\n",
    "    print(\"Your zodiac sign is Capricorn!\")\n",
    "elif ((month == 'January' and day >= 20) or (month == 'February' and day <=18)):\n",
    "    print(\"Your zodiac sign is Aquarius!\")\n",
    "elif ((month == 'February' and day >= 19) or (month == 'March' and day <=20)):\n",
    "    print(\"Your zodiac sign is Pisces!\")\n",
    "elif ((month == 'March' and day >= 21) or (month == 'April' and day <=19)):\n",
    "    print(\"Your zodiac sign is Aries!\")\n",
    "elif ((month == 'April' and day >= 20) or (month == 'May' and day <=20)):\n",
    "    print(\"Your zodiac sign is Taurus!\")\n",
    "elif ((month == 'May' and day >= 21) or (month == 'June' and day <=20)):\n",
    "    print(\"Your zodiac sign is Gemini!\")\n",
    "elif ((month == 'June' and day >= 21) or (month == 'July' and day <=22)):\n",
    "    print(\"Your zodiac sign is Cancer!\")\n",
    "elif ((month == 'July' and day >= 23) or (month == 'August' and day <=22)):\n",
    "    print(\"Your zodiac sign is Leo!\")\n",
    "elif ((month == 'August' and day >= 23) or (month == 'September' and day <=22)):\n",
    "    print(\"Your zodiac sign is Virgo!\")\n",
    "elif ((month == 'September' and day >= 23) or (month == 'October' and day <=22)):\n",
    "    print(\"Your zodiac sign is Libra!\")\n",
    "elif ((month == 'October' and day >= 23) or (month == 'November' and day <=21)):\n",
    "    print(\"Your zodiac sign is Scorpio!\")\n",
    "else:\n",
    "    print(\"Your zodiac sign is Sagitarius\")\n",
    "\n"
   ]
  },
  {
   "cell_type": "markdown",
   "metadata": {},
   "source": [
    "### PALINDROME"
   ]
  },
  {
   "cell_type": "code",
   "execution_count": 22,
   "metadata": {},
   "outputs": [
    {
     "output_type": "stream",
     "name": "stdout",
     "text": "isPalindrome after casefold:  america\n***********\nreversed palindrome:  ['a', 'c', 'i', 'r', 'e', 'm', 'a']\n***********\n['a', 'm', 'e', 'r', 'i', 'c', 'a']\n[]\nNo, the string you entered IS NOT a palindrome\n"
    }
   ],
   "source": [
    "isPalindrome = input(\"Enter your string: \")\n",
    "#isPalindrome = \"America\"\n",
    "\n",
    "#make it case insensitive\n",
    "isPalindrome = isPalindrome.casefold()\n",
    "print(\"isPalindrome after casefold: \", isPalindrome)\n",
    "print(\"***********\")\n",
    "#reverse the string\n",
    "revPalindrome = reversed(isPalindrome)\n",
    "print(\"reversed palindrome: \", list(revPalindrome))\n",
    "print(\"***********\")\n",
    "#check if entered string is same or different from reversed string\n",
    "if list(isPalindrome) == list(revPalindrome):\n",
    "    print(list(isPalindrome))\n",
    "    print(list(revPalindrome))\n",
    "    print(\"Yes, the string you entered IS a palindrome!\")\n",
    "else:\n",
    "    print(list(isPalindrome))\n",
    "    print(list(revPalindrome))\n",
    "    print(\"No, the string you entered IS NOT a palindrome\")\n"
   ]
  },
  {
   "cell_type": "code",
   "execution_count": 13,
   "metadata": {},
   "outputs": [
    {
     "output_type": "stream",
     "name": "stdout",
     "text": "heli\nNot palindrome\n"
    }
   ],
   "source": [
    "#Another way of reversing\n",
    "myStr = input(\"Enter a string: \")\n",
    "#myStr = 'hello'[::-1]\n",
    "print(myStr)\n",
    "revStr = myStr[::-1] #slice a string; start from right and keep moving left\n",
    "if revStr == myStr:\n",
    "    print(\"Palindrome!\")\n",
    "else:\n",
    "    print(\"Not palindrome\")\n",
    "\n"
   ]
  },
  {
   "cell_type": "code",
   "execution_count": 15,
   "metadata": {},
   "outputs": [
    {
     "output_type": "stream",
     "name": "stdout",
     "text": "olleh\n"
    }
   ],
   "source": [
    "myStr2 = 'hello'[::-1]\n",
    "print(myStr2)"
   ]
  },
  {
   "cell_type": "code",
   "execution_count": 19,
   "metadata": {},
   "outputs": [
    {
     "output_type": "stream",
     "name": "stdout",
     "text": "['a', 'l', 'o', 'h']\n"
    }
   ],
   "source": [
    "myStr3 = \"hola\"\n",
    "myStr4 = reversed(list(myStr3))\n",
    "print(list(myStr4))"
   ]
  },
  {
   "cell_type": "code",
   "execution_count": 24,
   "metadata": {},
   "outputs": [
    {
     "output_type": "stream",
     "name": "stdout",
     "text": "testString2:  ['h', 'e', 'l', 'l', 'o']\ntestString3:  ['o', 'l', 'l', 'e', 'h']\n"
    }
   ],
   "source": [
    "testString = \"hello\"\n",
    "testString2 = testString.casefold()\n",
    "testString3 = reversed(testString2)\n",
    "print(\"testString2: \", list(testString2))\n",
    "print(\"testString3: \", list(testString3))"
   ]
  },
  {
   "cell_type": "code",
   "execution_count": null,
   "metadata": {},
   "outputs": [],
   "source": []
  }
 ],
 "metadata": {
  "language_info": {
   "codemirror_mode": {
    "name": "ipython",
    "version": 3
   },
   "file_extension": ".py",
   "mimetype": "text/x-python",
   "name": "python",
   "nbconvert_exporter": "python",
   "pygments_lexer": "ipython3",
   "version": "3.7.4-final"
  },
  "orig_nbformat": 2,
  "kernelspec": {
   "name": "python3",
   "display_name": "Python 3"
  }
 },
 "nbformat": 4,
 "nbformat_minor": 2
}