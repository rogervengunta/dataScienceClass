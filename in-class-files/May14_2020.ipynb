{
 "cells": [
  {
   "cell_type": "markdown",
   "metadata": {},
   "source": [
    "#### While vs For loop\n",
    "#### While is evaluated against a condition and iterates\n",
    "#### For iterates in a list/sequence"
   ]
  },
  {
   "cell_type": "code",
   "execution_count": 3,
   "metadata": {},
   "outputs": [
    {
     "output_type": "stream",
     "name": "stdout",
     "text": "range(0, -3)\nrange(0, -3)\nrange(0, 3)\n"
    }
   ],
   "source": [
    "a = range(-3)\n",
    "print(a)\n",
    "print(range(-3))\n",
    "print(range(3))"
   ]
  },
  {
   "cell_type": "code",
   "execution_count": 5,
   "metadata": {},
   "outputs": [
    {
     "output_type": "stream",
     "name": "stdout",
     "text": "s\nt\nr\nn\ng\nThe end\n"
    }
   ],
   "source": [
    "#Continue statement\n",
    "for val in \"string\":\n",
    "    if val == \"i\":\n",
    "        continue\n",
    "        print(val)\n",
    "    print(val)\n",
    "print(\"The end\")"
   ]
  },
  {
   "cell_type": "code",
   "execution_count": 1,
   "metadata": {},
   "outputs": [
    {
     "output_type": "stream",
     "name": "stdout",
     "text": "Help on built-in function print in module builtins:\n\nprint(...)\n    print(value, ..., sep=' ', end='\\n', file=sys.stdout, flush=False)\n    \n    Prints the values to a stream, or to sys.stdout by default.\n    Optional keyword arguments:\n    file:  a file-like object (stream); defaults to the current sys.stdout.\n    sep:   string inserted between values, default a space.\n    end:   string appended after the last value, default a newline.\n    flush: whether to forcibly flush the stream.\n\n"
    }
   ],
   "source": [
    "import pydoc\n",
    "pydoc.help(print)"
   ]
  },
  {
   "cell_type": "code",
   "execution_count": 5,
   "metadata": {},
   "outputs": [
    {
     "output_type": "stream",
     "name": "stdout",
     "text": "Please try again!\nPlease try again!\nPlease try again!\n"
    }
   ],
   "source": [
    "#While loop - my way or the highway!\n",
    "def checkPassword():\n",
    "    \n",
    "    counter = 3\n",
    "    storedPasswords = [\"123\", \"abc\", \"hello\"]\n",
    "    while(counter<=3 and counter != 0):\n",
    "        password = input(\"Enter the password:\")\n",
    "        if password in storedPasswords:\n",
    "            print(\"password verified\")\n",
    "            break\n",
    "        else:\n",
    "            print(\"Please try again!\")\n",
    "            counter = counter - 1\n",
    "        \n",
    "checkPassword()"
   ]
  },
  {
   "cell_type": "code",
   "execution_count": 6,
   "metadata": {},
   "outputs": [],
   "source": [
    "#While loop - the right way\n",
    "def checkPassword(enter_pwd):\n",
    "    i=0\n",
    "    flag = True\n",
    "    while flag:\n",
    "        if enter_pwd in [\"abc\", \"123\", \"password\"]:\n",
    "            print(\"Verfied!\")\n",
    "            break\n",
    "        else:\n",
    "            if i<2:\n",
    "                enter_pwd = input(\"Try again, please enter password again:\")\n",
    "                i+=1\n",
    "            else:\n",
    "                flag = False\n",
    "    else:\n",
    "        print(\"You have exceeded the limited number of attempts!\")"
   ]
  },
  {
   "cell_type": "code",
   "execution_count": 7,
   "metadata": {},
   "outputs": [
    {
     "output_type": "stream",
     "name": "stdout",
     "text": "You have exceeded the limited number of attempts!\n"
    }
   ],
   "source": [
    "enter_pwd = input(\"Please enter a password:\")\n",
    "checkPassword(enter_pwd)"
   ]
  },
  {
   "cell_type": "code",
   "execution_count": null,
   "metadata": {},
   "outputs": [],
   "source": []
  }
 ],
 "metadata": {
  "language_info": {
   "codemirror_mode": {
    "name": "ipython",
    "version": 3
   },
   "file_extension": ".py",
   "mimetype": "text/x-python",
   "name": "python",
   "nbconvert_exporter": "python",
   "pygments_lexer": "ipython3",
   "version": "3.7.4-final"
  },
  "orig_nbformat": 2,
  "kernelspec": {
   "name": "python3",
   "display_name": "Python 3"
  }
 },
 "nbformat": 4,
 "nbformat_minor": 2
}