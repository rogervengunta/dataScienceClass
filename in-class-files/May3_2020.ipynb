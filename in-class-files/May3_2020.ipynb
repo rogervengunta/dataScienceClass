{
 "cells": [
  {
   "cell_type": "code",
   "execution_count": 1,
   "metadata": {},
   "outputs": [],
   "source": [
    "#Grading student internal assignment\n",
    "def grade(marks):\n",
    "    if(marks >= 85):\n",
    "        print(\"Grade is A+\")\n",
    "    elif(marks >= 80 and marks < 85):\n",
    "        print(\"Grade is A\")\n",
    "    elif(marks >= 75 and marks < 80):\n",
    "        print(\"Grade is A-\")\n",
    "    elif(marks >= 70 and marks < 75):\n",
    "        print(\"Grade is B\")\n",
    "    elif(marks >= 65 and marks < 70):\n",
    "        print(\"Grade is B-\")\n",
    "    elif(marks >= 60 and marks < 65):\n",
    "        print(\"Grade is C\")\n",
    "    elif(marks >= 55 and marks < 60):\n",
    "        print(\"Grade is C-\")\n",
    "    elif(marks >= 50 and marks < 55):\n",
    "        print(\"Grade is D\")\n",
    "    else:\n",
    "        print(\"Grade is F\")"
   ]
  },
  {
   "cell_type": "code",
   "execution_count": 2,
   "metadata": {},
   "outputs": [
    {
     "output_type": "stream",
     "name": "stdout",
     "text": "Grade is A+\n"
    }
   ],
   "source": [
    "grade(86)"
   ]
  },
  {
   "cell_type": "markdown",
   "metadata": {},
   "source": [
    "#### REGEX PATTERN MATCHING:"
   ]
  },
  {
   "cell_type": "code",
   "execution_count": 8,
   "metadata": {},
   "outputs": [
    {
     "output_type": "stream",
     "name": "stdout",
     "text": "Your license plates are new\n"
    }
   ],
   "source": [
    "import re\n",
    "\n",
    "def licenseFormat(plates):\n",
    "    #licensePatternOld = re.search(\"^[A-Z]{3}\\d{3}$\", plates)\n",
    "    #licensePatternNew = re.search(\"^\\d{4}[A-Z]{3}$\", plates)\n",
    "    if re.search(\"^[A-Z]{3}\\d{3}$\", plates):\n",
    "        print(\"Your license plates are old\")\n",
    "    elif re.search(\"^\\d{4}[A-Z]{3}$\", plates):\n",
    "        print(\"Your license plates are new\")\n",
    "    else:\n",
    "        print(\"Invalid plate numbers\")\n",
    "\n",
    "licenseFormat(\"1234ABC\")"
   ]
  },
  {
   "cell_type": "code",
   "execution_count": 9,
   "metadata": {},
   "outputs": [
    {
     "output_type": "stream",
     "name": "stdout",
     "text": "Your license plates are old\n"
    }
   ],
   "source": [
    "import re\n",
    "\n",
    "plates = input(\"Enter the license info: \")\n",
    "if re.search(\"^[A-Z]{3}\\d{3}$\", plates):\n",
    "    print(\"Your license plates are old\")\n",
    "elif re.search(\"^\\d{4}[A-Z]{3}$\", plates):\n",
    "    print(\"Your license plates are new\")\n",
    "else:\n",
    "    print(\"Invalid plate numbers\")\n"
   ]
  },
  {
   "cell_type": "code",
   "execution_count": 15,
   "metadata": {},
   "outputs": [
    {
     "output_type": "stream",
     "name": "stdout",
     "text": "It is a consonant\n"
    }
   ],
   "source": [
    "#Check if input is vowel or consonant\n",
    "import re\n",
    "\n",
    "inputchar = input(\"Enter the character: \")\n",
    "if re.search(\"^[a,e,i,o,u,A,E,I,O,U]$\", inputchar):\n",
    "    print(\"It is a vowel\")\n",
    "elif re.search(\"^[y,Y]$\", inputchar):\n",
    "    print(\"Sometimes y is a vowel, sometimes it is not\")\n",
    "else:\n",
    "    print(\"It is a consonant\")"
   ]
  },
  {
   "cell_type": "code",
   "execution_count": null,
   "metadata": {},
   "outputs": [],
   "source": [
    "#Print shape based on number\n",
    "inputSides = input(\"Enter number of sides: \")\n",
    "if(inputSides == 3):\n",
    "    print(\"It is a triangle\")\n",
    "elif(inputSides == 4):\n",
    "    print(\"It is a square or rectangle\")\n",
    "elif(inputSides == 5):\n",
    "    print(\"It is a pentagon\")\n",
    "elif(inputSides == 6):\n",
    "    print(\"It is a hexagon\")\n",
    "elif(inputSides == 7):\n",
    "    print(\"It is a septagon\")\n",
    "elif(inputSides == 8):\n",
    "    print(\"It is an octagon\")\n",
    "elif(inputSides == 9):\n",
    "    print(\"It is a nonagon\")\n",
    "elif(inputSides == 10):\n",
    "    print(\"It is a decagon\")\n",
    "else:\n",
    "    print(\"unknown shape\")"
   ]
  }
 ],
 "metadata": {
  "language_info": {
   "codemirror_mode": {
    "name": "ipython",
    "version": 3
   },
   "file_extension": ".py",
   "mimetype": "text/x-python",
   "name": "python",
   "nbconvert_exporter": "python",
   "pygments_lexer": "ipython3",
   "version": "3.7.4-final"
  },
  "orig_nbformat": 2,
  "kernelspec": {
   "name": "python3",
   "display_name": "Python 3"
  }
 },
 "nbformat": 4,
 "nbformat_minor": 2
}