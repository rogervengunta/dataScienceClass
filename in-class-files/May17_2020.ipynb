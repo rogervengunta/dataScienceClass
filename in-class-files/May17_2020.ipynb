{
 "cells": [
  {
   "cell_type": "code",
   "execution_count": 14,
   "metadata": {},
   "outputs": [],
   "source": [
    "class Person: #blueprint for the object\n",
    "    def __init__(self, name, address): #standard way of creating a constructor\n",
    "        self.pname = name #assigns values to the object\n",
    "        self.paddress = address\n",
    "    def display(self): #class method\n",
    "        print(\"Name is: \", self.pname)\n",
    "        print(\"Address is: \", self.paddress)\n",
    "    def staticDisplay(): #static method: doesn't need class to be instantiated\n",
    "        print(\"I'm a static method\")\n"
   ]
  },
  {
   "cell_type": "code",
   "execution_count": 15,
   "metadata": {},
   "outputs": [
    {
     "output_type": "stream",
     "name": "stdout",
     "text": "Name is:  RV\nAddress is:  San Antonio\n"
    }
   ],
   "source": [
    "person1 = Person(\"RV\", \"San Antonio\")\n",
    "person1.display()"
   ]
  },
  {
   "cell_type": "code",
   "execution_count": 16,
   "metadata": {},
   "outputs": [],
   "source": [
    "#Not best practice - without creating a constructor w/ __init__\n",
    "#Note: by default __init__ is created whenever a class is created\n",
    "class Animal:\n",
    "    def assignValues(self, name, nlegs):\n",
    "        self.aname = name\n",
    "        self.alegs = nlegs\n",
    "\n",
    "    def displayValues(self):\n",
    "        print(\"Name of animal: \", self.aname)\n",
    "        print(\"Number of legs: \", self.alegs)"
   ]
  },
  {
   "cell_type": "code",
   "execution_count": 17,
   "metadata": {},
   "outputs": [
    {
     "output_type": "stream",
     "name": "stdout",
     "text": "Name of animal:  dog\nNumber of legs:  4\n"
    }
   ],
   "source": [
    "animal1 = Animal()\n",
    "animal1.assignValues(\"dog\", 4)\n",
    "animal1.displayValues()"
   ]
  },
  {
   "cell_type": "code",
   "execution_count": null,
   "metadata": {},
   "outputs": [],
   "source": [
    "#Static method can be called without instantiating the CLASS\n",
    "class Myclass:\n",
    "    def _init_(self, a):\n",
    "        self.a = a\n",
    "    def disp(self):\n",
    "        print(\"value of a\",self.a)\n",
    "    def disp_test():\n",
    "        print(\"Test static method\")\n",
    "    def main():\n",
    "        test2=Myclass(20)\n",
    "        test2.disp()\n",
    "        Myclass.disp_test()\n",
    "        \n",
    "    if _name== \"main_\":\n",
    "        main()"
   ]
  }
 ],
 "metadata": {
  "language_info": {
   "codemirror_mode": {
    "name": "ipython",
    "version": 3
   },
   "file_extension": ".py",
   "mimetype": "text/x-python",
   "name": "python",
   "nbconvert_exporter": "python",
   "pygments_lexer": "ipython3",
   "version": "3.7.4-final"
  },
  "orig_nbformat": 2,
  "kernelspec": {
   "name": "python3",
   "display_name": "Python 3"
  }
 },
 "nbformat": 4,
 "nbformat_minor": 2
}