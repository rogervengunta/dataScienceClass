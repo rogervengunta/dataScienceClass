{
 "cells": [
  {
   "cell_type": "markdown",
   "metadata": {},
   "source": [
    "### PANDAS LIB (Python data analysis library; takes data & creates a Python object w/ rows & columns called 'data frame' == table in statistical software)"
   ]
  },
  {
   "cell_type": "code",
   "execution_count": null,
   "metadata": {},
   "outputs": [],
   "source": [
    "#### Use case for pandas (instead of using traditional DB): \n",
    "#### 1. Simple 1-step solutions\n",
    "#### 2. Easier to do visualizations - retaining formatting for user experience\n",
    "#### 3. For large volume data - better to do this in spark"
   ]
  },
  {
   "cell_type": "code",
   "execution_count": 14,
   "metadata": {},
   "outputs": [
    {
     "output_type": "execute_result",
     "data": {
      "text/plain": "    RESP_ID  SUR_SCORE         MASKED_IP          CRT_DT COUNTRY_CODE  \\\n0  13071656          8  MTQ5,Dk1,TMy,A==  1/18/2018 8:48           FI   \n1  13071811         10  MTM0Mjk4,TE0OA==  1/18/2018 8:59           FR   \n2  13071889          9      MzY4,DgzOTU=  1/18/2018 9:05           AE   \n3  13071909         10  MTM4MzU5MjY2Mg==  1/18/2018 9:06           CZ   \n4  13071920         10  MzU3ODcz,Tg1OA==  1/18/2018 9:07           IE   \n5  13071988         10  Mjk1,jk1ODE4OQ==  1/18/2018 9:11           HU   \n6  13072012          8  MTM2ODUxMTE4,g==  1/18/2018 9:12           GB   \n7  13072097          7  MzA1ODE0,zYwOQ==  1/18/2018 9:17           IN   \n8  13072253         10  MTg0,DEwMzMx,A==  1/18/2018 9:27           GB   \n9  13072647         10  MTI5,zcxMTI0Mg==  1/18/2018 9:50           GB   \n\n          REGION  \n0        uusimaa  \n1  ile-de-france  \n2          dubai  \n3          praha  \n4            NaN  \n5       budapest  \n6            NaN  \n7  uttar pradesh  \n8            NaN  \n9            NaN  ",
      "text/html": "<div>\n<style scoped>\n    .dataframe tbody tr th:only-of-type {\n        vertical-align: middle;\n    }\n\n    .dataframe tbody tr th {\n        vertical-align: top;\n    }\n\n    .dataframe thead th {\n        text-align: right;\n    }\n</style>\n<table border=\"1\" class=\"dataframe\">\n  <thead>\n    <tr style=\"text-align: right;\">\n      <th></th>\n      <th>RESP_ID</th>\n      <th>SUR_SCORE</th>\n      <th>MASKED_IP</th>\n      <th>CRT_DT</th>\n      <th>COUNTRY_CODE</th>\n      <th>REGION</th>\n    </tr>\n  </thead>\n  <tbody>\n    <tr>\n      <td>0</td>\n      <td>13071656</td>\n      <td>8</td>\n      <td>MTQ5,Dk1,TMy,A==</td>\n      <td>1/18/2018 8:48</td>\n      <td>FI</td>\n      <td>uusimaa</td>\n    </tr>\n    <tr>\n      <td>1</td>\n      <td>13071811</td>\n      <td>10</td>\n      <td>MTM0Mjk4,TE0OA==</td>\n      <td>1/18/2018 8:59</td>\n      <td>FR</td>\n      <td>ile-de-france</td>\n    </tr>\n    <tr>\n      <td>2</td>\n      <td>13071889</td>\n      <td>9</td>\n      <td>MzY4,DgzOTU=</td>\n      <td>1/18/2018 9:05</td>\n      <td>AE</td>\n      <td>dubai</td>\n    </tr>\n    <tr>\n      <td>3</td>\n      <td>13071909</td>\n      <td>10</td>\n      <td>MTM4MzU5MjY2Mg==</td>\n      <td>1/18/2018 9:06</td>\n      <td>CZ</td>\n      <td>praha</td>\n    </tr>\n    <tr>\n      <td>4</td>\n      <td>13071920</td>\n      <td>10</td>\n      <td>MzU3ODcz,Tg1OA==</td>\n      <td>1/18/2018 9:07</td>\n      <td>IE</td>\n      <td>NaN</td>\n    </tr>\n    <tr>\n      <td>5</td>\n      <td>13071988</td>\n      <td>10</td>\n      <td>Mjk1,jk1ODE4OQ==</td>\n      <td>1/18/2018 9:11</td>\n      <td>HU</td>\n      <td>budapest</td>\n    </tr>\n    <tr>\n      <td>6</td>\n      <td>13072012</td>\n      <td>8</td>\n      <td>MTM2ODUxMTE4,g==</td>\n      <td>1/18/2018 9:12</td>\n      <td>GB</td>\n      <td>NaN</td>\n    </tr>\n    <tr>\n      <td>7</td>\n      <td>13072097</td>\n      <td>7</td>\n      <td>MzA1ODE0,zYwOQ==</td>\n      <td>1/18/2018 9:17</td>\n      <td>IN</td>\n      <td>uttar pradesh</td>\n    </tr>\n    <tr>\n      <td>8</td>\n      <td>13072253</td>\n      <td>10</td>\n      <td>MTg0,DEwMzMx,A==</td>\n      <td>1/18/2018 9:27</td>\n      <td>GB</td>\n      <td>NaN</td>\n    </tr>\n    <tr>\n      <td>9</td>\n      <td>13072647</td>\n      <td>10</td>\n      <td>MTI5,zcxMTI0Mg==</td>\n      <td>1/18/2018 9:50</td>\n      <td>GB</td>\n      <td>NaN</td>\n    </tr>\n  </tbody>\n</table>\n</div>"
     },
     "metadata": {},
     "execution_count": 14
    }
   ],
   "source": [
    "import pandas as pd #import pandas lib\n",
    "\n",
    "pd.set_option('display.max_columns', 200) #sets display cols in a data frame; otherwise rows will overflow\n",
    "pd.set_option('display.max_rows', 200) #sets display cols in a data frame; otherwise rows will overflow\n",
    "surveyResponse = pd.read_csv('Survey_Resp.csv') #surveyResponse is the primary data frame in this notebook\n",
    "surveyResponse.head(10)"
   ]
  },
  {
   "cell_type": "code",
   "execution_count": 15,
   "metadata": {},
   "outputs": [
    {
     "output_type": "execute_result",
     "data": {
      "text/plain": "Index(['RESP_ID', 'SUR_SCORE', 'MASKED_IP', 'CRT_DT', 'COUNTRY_CODE',\n       'REGION'],\n      dtype='object')"
     },
     "metadata": {},
     "execution_count": 15
    }
   ],
   "source": [
    "surveyResponse.columns"
   ]
  },
  {
   "cell_type": "code",
   "execution_count": 17,
   "metadata": {},
   "outputs": [
    {
     "output_type": "execute_result",
     "data": {
      "text/plain": "RESPONSE_ID      int64\nSURVEY_SCORE     int64\nMASKED_IP       object\nSURVEY_DATE     object\nCOUNTRY_CODE    object\nREGION          object\ndtype: object"
     },
     "metadata": {},
     "execution_count": 17
    }
   ],
   "source": [
    "headers = [\"RESPONSE_ID\", \"SURVEY_SCORE\", \"MASKED_IP\", \"SURVEY_DATE\", \"COUNTRY_CODE\", \"REGION\"]\n",
    "surveyResponse.columns = headers\n",
    "surveyResponse.dtypes"
   ]
  },
  {
   "cell_type": "code",
   "execution_count": 18,
   "metadata": {},
   "outputs": [
    {
     "output_type": "execute_result",
     "data": {
      "text/plain": "   RESPONSE_ID  SURVEY_SCORE         MASKED_IP     SURVEY_DATE COUNTRY_CODE  \\\n0     13071656             8  MTQ5,Dk1,TMy,A==  1/18/2018 8:48           FI   \n1     13071811            10  MTM0Mjk4,TE0OA==  1/18/2018 8:59           FR   \n2     13071889             9      MzY4,DgzOTU=  1/18/2018 9:05           AE   \n3     13071909            10  MTM4MzU5MjY2Mg==  1/18/2018 9:06           CZ   \n4     13071920            10  MzU3ODcz,Tg1OA==  1/18/2018 9:07           IE   \n5     13071988            10  Mjk1,jk1ODE4OQ==  1/18/2018 9:11           HU   \n6     13072012             8  MTM2ODUxMTE4,g==  1/18/2018 9:12           GB   \n7     13072097             7  MzA1ODE0,zYwOQ==  1/18/2018 9:17           IN   \n8     13072253            10  MTg0,DEwMzMx,A==  1/18/2018 9:27           GB   \n9     13072647            10  MTI5,zcxMTI0Mg==  1/18/2018 9:50           GB   \n\n          REGION  \n0        uusimaa  \n1  ile-de-france  \n2          dubai  \n3          praha  \n4            NaN  \n5       budapest  \n6            NaN  \n7  uttar pradesh  \n8            NaN  \n9            NaN  ",
      "text/html": "<div>\n<style scoped>\n    .dataframe tbody tr th:only-of-type {\n        vertical-align: middle;\n    }\n\n    .dataframe tbody tr th {\n        vertical-align: top;\n    }\n\n    .dataframe thead th {\n        text-align: right;\n    }\n</style>\n<table border=\"1\" class=\"dataframe\">\n  <thead>\n    <tr style=\"text-align: right;\">\n      <th></th>\n      <th>RESPONSE_ID</th>\n      <th>SURVEY_SCORE</th>\n      <th>MASKED_IP</th>\n      <th>SURVEY_DATE</th>\n      <th>COUNTRY_CODE</th>\n      <th>REGION</th>\n    </tr>\n  </thead>\n  <tbody>\n    <tr>\n      <td>0</td>\n      <td>13071656</td>\n      <td>8</td>\n      <td>MTQ5,Dk1,TMy,A==</td>\n      <td>1/18/2018 8:48</td>\n      <td>FI</td>\n      <td>uusimaa</td>\n    </tr>\n    <tr>\n      <td>1</td>\n      <td>13071811</td>\n      <td>10</td>\n      <td>MTM0Mjk4,TE0OA==</td>\n      <td>1/18/2018 8:59</td>\n      <td>FR</td>\n      <td>ile-de-france</td>\n    </tr>\n    <tr>\n      <td>2</td>\n      <td>13071889</td>\n      <td>9</td>\n      <td>MzY4,DgzOTU=</td>\n      <td>1/18/2018 9:05</td>\n      <td>AE</td>\n      <td>dubai</td>\n    </tr>\n    <tr>\n      <td>3</td>\n      <td>13071909</td>\n      <td>10</td>\n      <td>MTM4MzU5MjY2Mg==</td>\n      <td>1/18/2018 9:06</td>\n      <td>CZ</td>\n      <td>praha</td>\n    </tr>\n    <tr>\n      <td>4</td>\n      <td>13071920</td>\n      <td>10</td>\n      <td>MzU3ODcz,Tg1OA==</td>\n      <td>1/18/2018 9:07</td>\n      <td>IE</td>\n      <td>NaN</td>\n    </tr>\n    <tr>\n      <td>5</td>\n      <td>13071988</td>\n      <td>10</td>\n      <td>Mjk1,jk1ODE4OQ==</td>\n      <td>1/18/2018 9:11</td>\n      <td>HU</td>\n      <td>budapest</td>\n    </tr>\n    <tr>\n      <td>6</td>\n      <td>13072012</td>\n      <td>8</td>\n      <td>MTM2ODUxMTE4,g==</td>\n      <td>1/18/2018 9:12</td>\n      <td>GB</td>\n      <td>NaN</td>\n    </tr>\n    <tr>\n      <td>7</td>\n      <td>13072097</td>\n      <td>7</td>\n      <td>MzA1ODE0,zYwOQ==</td>\n      <td>1/18/2018 9:17</td>\n      <td>IN</td>\n      <td>uttar pradesh</td>\n    </tr>\n    <tr>\n      <td>8</td>\n      <td>13072253</td>\n      <td>10</td>\n      <td>MTg0,DEwMzMx,A==</td>\n      <td>1/18/2018 9:27</td>\n      <td>GB</td>\n      <td>NaN</td>\n    </tr>\n    <tr>\n      <td>9</td>\n      <td>13072647</td>\n      <td>10</td>\n      <td>MTI5,zcxMTI0Mg==</td>\n      <td>1/18/2018 9:50</td>\n      <td>GB</td>\n      <td>NaN</td>\n    </tr>\n  </tbody>\n</table>\n</div>"
     },
     "metadata": {},
     "execution_count": 18
    }
   ],
   "source": [
    "surveyResponse.head(10)"
   ]
  },
  {
   "cell_type": "code",
   "execution_count": 23,
   "metadata": {},
   "outputs": [
    {
     "output_type": "execute_result",
     "data": {
      "text/plain": "      RESPONSE_ID  SURVEY_SCORE  MASKED_IP  SURVEY_DATE  COUNTRY_CODE  REGION\n0           False         False      False        False         False   False\n1           False         False      False        False         False   False\n2           False         False      False        False         False   False\n3           False         False      False        False         False   False\n4           False         False      False        False         False    True\n...           ...           ...        ...          ...           ...     ...\n4783        False         False      False        False         False   False\n4784        False         False      False        False         False   False\n4785        False         False      False        False         False   False\n4786        False         False      False        False          True    True\n4787        False         False      False        False         False   False\n\n[4788 rows x 6 columns]",
      "text/html": "<div>\n<style scoped>\n    .dataframe tbody tr th:only-of-type {\n        vertical-align: middle;\n    }\n\n    .dataframe tbody tr th {\n        vertical-align: top;\n    }\n\n    .dataframe thead th {\n        text-align: right;\n    }\n</style>\n<table border=\"1\" class=\"dataframe\">\n  <thead>\n    <tr style=\"text-align: right;\">\n      <th></th>\n      <th>RESPONSE_ID</th>\n      <th>SURVEY_SCORE</th>\n      <th>MASKED_IP</th>\n      <th>SURVEY_DATE</th>\n      <th>COUNTRY_CODE</th>\n      <th>REGION</th>\n    </tr>\n  </thead>\n  <tbody>\n    <tr>\n      <td>0</td>\n      <td>False</td>\n      <td>False</td>\n      <td>False</td>\n      <td>False</td>\n      <td>False</td>\n      <td>False</td>\n    </tr>\n    <tr>\n      <td>1</td>\n      <td>False</td>\n      <td>False</td>\n      <td>False</td>\n      <td>False</td>\n      <td>False</td>\n      <td>False</td>\n    </tr>\n    <tr>\n      <td>2</td>\n      <td>False</td>\n      <td>False</td>\n      <td>False</td>\n      <td>False</td>\n      <td>False</td>\n      <td>False</td>\n    </tr>\n    <tr>\n      <td>3</td>\n      <td>False</td>\n      <td>False</td>\n      <td>False</td>\n      <td>False</td>\n      <td>False</td>\n      <td>False</td>\n    </tr>\n    <tr>\n      <td>4</td>\n      <td>False</td>\n      <td>False</td>\n      <td>False</td>\n      <td>False</td>\n      <td>False</td>\n      <td>True</td>\n    </tr>\n    <tr>\n      <td>...</td>\n      <td>...</td>\n      <td>...</td>\n      <td>...</td>\n      <td>...</td>\n      <td>...</td>\n      <td>...</td>\n    </tr>\n    <tr>\n      <td>4783</td>\n      <td>False</td>\n      <td>False</td>\n      <td>False</td>\n      <td>False</td>\n      <td>False</td>\n      <td>False</td>\n    </tr>\n    <tr>\n      <td>4784</td>\n      <td>False</td>\n      <td>False</td>\n      <td>False</td>\n      <td>False</td>\n      <td>False</td>\n      <td>False</td>\n    </tr>\n    <tr>\n      <td>4785</td>\n      <td>False</td>\n      <td>False</td>\n      <td>False</td>\n      <td>False</td>\n      <td>False</td>\n      <td>False</td>\n    </tr>\n    <tr>\n      <td>4786</td>\n      <td>False</td>\n      <td>False</td>\n      <td>False</td>\n      <td>False</td>\n      <td>True</td>\n      <td>True</td>\n    </tr>\n    <tr>\n      <td>4787</td>\n      <td>False</td>\n      <td>False</td>\n      <td>False</td>\n      <td>False</td>\n      <td>False</td>\n      <td>False</td>\n    </tr>\n  </tbody>\n</table>\n<p>4788 rows × 6 columns</p>\n</div>"
     },
     "metadata": {},
     "execution_count": 23
    }
   ],
   "source": [
    "surveyMissingVal = surveyResponse.isnull() #creating a new data frame based on isnull method acting on original data frame\n",
    "surveyMissingVal"
   ]
  },
  {
   "cell_type": "code",
   "execution_count": 24,
   "metadata": {},
   "outputs": [
    {
     "output_type": "stream",
     "name": "stdout",
     "text": "Column name:  RESPONSE_ID\nColumn name:  SURVEY_SCORE\nColumn name:  MASKED_IP\nColumn name:  SURVEY_DATE\nColumn name:  COUNTRY_CODE\nColumn name:  REGION\n"
    }
   ],
   "source": [
    "for col in surveyMissingVal.columns.values.tolist():\n",
    "    print(\"Column name: \", col)"
   ]
  },
  {
   "cell_type": "code",
   "execution_count": 26,
   "metadata": {},
   "outputs": [
    {
     "output_type": "execute_result",
     "data": {
      "text/plain": "False    3994\nTrue      794\nName: COUNTRY_CODE, dtype: int64"
     },
     "metadata": {},
     "execution_count": 26
    }
   ],
   "source": [
    "#surveyMissingVal[\"SURVEY_SCORE\"].value_counts()\n",
    "surveyMissingVal[\"COUNTRY_CODE\"].value_counts() #returns counts for distinct values in the column - similar to GROUP BY in sql"
   ]
  },
  {
   "cell_type": "code",
   "execution_count": 27,
   "metadata": {},
   "outputs": [
    {
     "output_type": "execute_result",
     "data": {
      "text/plain": "False    3215\nTrue     1573\nName: REGION, dtype: int64"
     },
     "metadata": {},
     "execution_count": 27
    }
   ],
   "source": [
    "surveyMissingVal[\"REGION\"].value_counts()"
   ]
  },
  {
   "cell_type": "code",
   "execution_count": 28,
   "metadata": {},
   "outputs": [
    {
     "output_type": "stream",
     "name": "stdout",
     "text": "Column name:  RESPONSE_ID\nFalse    4788\nName: RESPONSE_ID, dtype: int64\n--------------------------------------\nColumn name:  SURVEY_SCORE\nFalse    4788\nName: SURVEY_SCORE, dtype: int64\n--------------------------------------\nColumn name:  MASKED_IP\nFalse    4788\nName: MASKED_IP, dtype: int64\n--------------------------------------\nColumn name:  SURVEY_DATE\nFalse    4788\nName: SURVEY_DATE, dtype: int64\n--------------------------------------\nColumn name:  COUNTRY_CODE\nFalse    3994\nTrue      794\nName: COUNTRY_CODE, dtype: int64\n--------------------------------------\nColumn name:  REGION\nFalse    3215\nTrue     1573\nName: REGION, dtype: int64\n--------------------------------------\n"
    }
   ],
   "source": [
    "for col_name in surveyMissingVal.columns.values.tolist():\n",
    "    print(\"Column name: \", col_name)\n",
    "    print(surveyMissingVal[col_name].value_counts())\n",
    "    print('--------------------------------------')"
   ]
  },
  {
   "cell_type": "markdown",
   "metadata": {},
   "source": [
    "#### Survey response data set: missing data findings\n",
    "##### Based on the summary above, of 4788 rows of data - 2 columns have missing data:\n",
    "<li> 1. \"COUNTRY_CODE\": 794 missing</li>\n",
    "<li> 2. \"REGION\": 1573 missing </li>"
   ]
  },
  {
   "cell_type": "markdown",
   "metadata": {},
   "source": [
    "#### EXPLORATORY DATA ANALYSIS"
   ]
  },
  {
   "cell_type": "code",
   "execution_count": 30,
   "metadata": {},
   "outputs": [
    {
     "output_type": "stream",
     "name": "stdout",
     "text": "<class 'pandas.core.frame.DataFrame'>\n"
    }
   ],
   "source": [
    "#Get descriptive stats in data set based on columns of interest\n",
    "#Describe method from pandas lib to do this\n",
    "surveyResponse[['SURVEY_SCORE', 'SURVEY_DATE', 'COUNTRY_CODE', 'REGION']].describe(include='all') \n",
    "print(type(surveyResponse))"
   ]
  },
  {
   "cell_type": "code",
   "execution_count": 37,
   "metadata": {},
   "outputs": [
    {
     "output_type": "execute_result",
     "data": {
      "text/plain": "   RESPONSE_ID  SURVEY_SCORE         MASKED_IP     SURVEY_DATE COUNTRY_CODE  \\\n1     13071811            10  MTM0Mjk4,TE0OA==  1/18/2018 8:59           FR   \n3     13071909            10  MTM4MzU5MjY2Mg==  1/18/2018 9:06           CZ   \n4     13071920            10  MzU3ODcz,Tg1OA==  1/18/2018 9:07           IE   \n5     13071988            10  Mjk1,jk1ODE4OQ==  1/18/2018 9:11           HU   \n8     13072253            10  MTg0,DEwMzMx,A==  1/18/2018 9:27           GB   \n9     13072647            10  MTI5,zcxMTI0Mg==  1/18/2018 9:50           GB   \n2     13071889             9      MzY4,DgzOTU=  1/18/2018 9:05           AE   \n0     13071656             8  MTQ5,Dk1,TMy,A==  1/18/2018 8:48           FI   \n6     13072012             8  MTM2ODUxMTE4,g==  1/18/2018 9:12           GB   \n7     13072097             7  MzA1ODE0,zYwOQ==  1/18/2018 9:17           IN   \n\n          REGION  \n1  ile-de-france  \n3          praha  \n4            NaN  \n5       budapest  \n8            NaN  \n9            NaN  \n2          dubai  \n0        uusimaa  \n6            NaN  \n7  uttar pradesh  ",
      "text/html": "<div>\n<style scoped>\n    .dataframe tbody tr th:only-of-type {\n        vertical-align: middle;\n    }\n\n    .dataframe tbody tr th {\n        vertical-align: top;\n    }\n\n    .dataframe thead th {\n        text-align: right;\n    }\n</style>\n<table border=\"1\" class=\"dataframe\">\n  <thead>\n    <tr style=\"text-align: right;\">\n      <th></th>\n      <th>RESPONSE_ID</th>\n      <th>SURVEY_SCORE</th>\n      <th>MASKED_IP</th>\n      <th>SURVEY_DATE</th>\n      <th>COUNTRY_CODE</th>\n      <th>REGION</th>\n    </tr>\n  </thead>\n  <tbody>\n    <tr>\n      <td>1</td>\n      <td>13071811</td>\n      <td>10</td>\n      <td>MTM0Mjk4,TE0OA==</td>\n      <td>1/18/2018 8:59</td>\n      <td>FR</td>\n      <td>ile-de-france</td>\n    </tr>\n    <tr>\n      <td>3</td>\n      <td>13071909</td>\n      <td>10</td>\n      <td>MTM4MzU5MjY2Mg==</td>\n      <td>1/18/2018 9:06</td>\n      <td>CZ</td>\n      <td>praha</td>\n    </tr>\n    <tr>\n      <td>4</td>\n      <td>13071920</td>\n      <td>10</td>\n      <td>MzU3ODcz,Tg1OA==</td>\n      <td>1/18/2018 9:07</td>\n      <td>IE</td>\n      <td>NaN</td>\n    </tr>\n    <tr>\n      <td>5</td>\n      <td>13071988</td>\n      <td>10</td>\n      <td>Mjk1,jk1ODE4OQ==</td>\n      <td>1/18/2018 9:11</td>\n      <td>HU</td>\n      <td>budapest</td>\n    </tr>\n    <tr>\n      <td>8</td>\n      <td>13072253</td>\n      <td>10</td>\n      <td>MTg0,DEwMzMx,A==</td>\n      <td>1/18/2018 9:27</td>\n      <td>GB</td>\n      <td>NaN</td>\n    </tr>\n    <tr>\n      <td>9</td>\n      <td>13072647</td>\n      <td>10</td>\n      <td>MTI5,zcxMTI0Mg==</td>\n      <td>1/18/2018 9:50</td>\n      <td>GB</td>\n      <td>NaN</td>\n    </tr>\n    <tr>\n      <td>2</td>\n      <td>13071889</td>\n      <td>9</td>\n      <td>MzY4,DgzOTU=</td>\n      <td>1/18/2018 9:05</td>\n      <td>AE</td>\n      <td>dubai</td>\n    </tr>\n    <tr>\n      <td>0</td>\n      <td>13071656</td>\n      <td>8</td>\n      <td>MTQ5,Dk1,TMy,A==</td>\n      <td>1/18/2018 8:48</td>\n      <td>FI</td>\n      <td>uusimaa</td>\n    </tr>\n    <tr>\n      <td>6</td>\n      <td>13072012</td>\n      <td>8</td>\n      <td>MTM2ODUxMTE4,g==</td>\n      <td>1/18/2018 9:12</td>\n      <td>GB</td>\n      <td>NaN</td>\n    </tr>\n    <tr>\n      <td>7</td>\n      <td>13072097</td>\n      <td>7</td>\n      <td>MzA1ODE0,zYwOQ==</td>\n      <td>1/18/2018 9:17</td>\n      <td>IN</td>\n      <td>uttar pradesh</td>\n    </tr>\n  </tbody>\n</table>\n</div>"
     },
     "metadata": {},
     "execution_count": 37
    }
   ],
   "source": [
    "surveyResponse.head(10).sort_values(by=['SURVEY_SCORE'], ascending=False, inplace=True) \n",
    "#head() won't sort in data frame, only for screen\n",
    "#inplace actually sorts the data in the data frame"
   ]
  },
  {
   "cell_type": "code",
   "execution_count": 38,
   "metadata": {},
   "outputs": [
    {
     "output_type": "execute_result",
     "data": {
      "text/plain": "   RESPONSE_ID  SURVEY_SCORE         MASKED_IP     SURVEY_DATE COUNTRY_CODE  \\\n7     13072097             7  MzA1ODE0,zYwOQ==  1/18/2018 9:17           IN   \n0     13071656             8  MTQ5,Dk1,TMy,A==  1/18/2018 8:48           FI   \n6     13072012             8  MTM2ODUxMTE4,g==  1/18/2018 9:12           GB   \n2     13071889             9      MzY4,DgzOTU=  1/18/2018 9:05           AE   \n1     13071811            10  MTM0Mjk4,TE0OA==  1/18/2018 8:59           FR   \n3     13071909            10  MTM4MzU5MjY2Mg==  1/18/2018 9:06           CZ   \n4     13071920            10  MzU3ODcz,Tg1OA==  1/18/2018 9:07           IE   \n5     13071988            10  Mjk1,jk1ODE4OQ==  1/18/2018 9:11           HU   \n8     13072253            10  MTg0,DEwMzMx,A==  1/18/2018 9:27           GB   \n9     13072647            10  MTI5,zcxMTI0Mg==  1/18/2018 9:50           GB   \n\n          REGION  \n7  uttar pradesh  \n0        uusimaa  \n6            NaN  \n2          dubai  \n1  ile-de-france  \n3          praha  \n4            NaN  \n5       budapest  \n8            NaN  \n9            NaN  ",
      "text/html": "<div>\n<style scoped>\n    .dataframe tbody tr th:only-of-type {\n        vertical-align: middle;\n    }\n\n    .dataframe tbody tr th {\n        vertical-align: top;\n    }\n\n    .dataframe thead th {\n        text-align: right;\n    }\n</style>\n<table border=\"1\" class=\"dataframe\">\n  <thead>\n    <tr style=\"text-align: right;\">\n      <th></th>\n      <th>RESPONSE_ID</th>\n      <th>SURVEY_SCORE</th>\n      <th>MASKED_IP</th>\n      <th>SURVEY_DATE</th>\n      <th>COUNTRY_CODE</th>\n      <th>REGION</th>\n    </tr>\n  </thead>\n  <tbody>\n    <tr>\n      <td>7</td>\n      <td>13072097</td>\n      <td>7</td>\n      <td>MzA1ODE0,zYwOQ==</td>\n      <td>1/18/2018 9:17</td>\n      <td>IN</td>\n      <td>uttar pradesh</td>\n    </tr>\n    <tr>\n      <td>0</td>\n      <td>13071656</td>\n      <td>8</td>\n      <td>MTQ5,Dk1,TMy,A==</td>\n      <td>1/18/2018 8:48</td>\n      <td>FI</td>\n      <td>uusimaa</td>\n    </tr>\n    <tr>\n      <td>6</td>\n      <td>13072012</td>\n      <td>8</td>\n      <td>MTM2ODUxMTE4,g==</td>\n      <td>1/18/2018 9:12</td>\n      <td>GB</td>\n      <td>NaN</td>\n    </tr>\n    <tr>\n      <td>2</td>\n      <td>13071889</td>\n      <td>9</td>\n      <td>MzY4,DgzOTU=</td>\n      <td>1/18/2018 9:05</td>\n      <td>AE</td>\n      <td>dubai</td>\n    </tr>\n    <tr>\n      <td>1</td>\n      <td>13071811</td>\n      <td>10</td>\n      <td>MTM0Mjk4,TE0OA==</td>\n      <td>1/18/2018 8:59</td>\n      <td>FR</td>\n      <td>ile-de-france</td>\n    </tr>\n    <tr>\n      <td>3</td>\n      <td>13071909</td>\n      <td>10</td>\n      <td>MTM4MzU5MjY2Mg==</td>\n      <td>1/18/2018 9:06</td>\n      <td>CZ</td>\n      <td>praha</td>\n    </tr>\n    <tr>\n      <td>4</td>\n      <td>13071920</td>\n      <td>10</td>\n      <td>MzU3ODcz,Tg1OA==</td>\n      <td>1/18/2018 9:07</td>\n      <td>IE</td>\n      <td>NaN</td>\n    </tr>\n    <tr>\n      <td>5</td>\n      <td>13071988</td>\n      <td>10</td>\n      <td>Mjk1,jk1ODE4OQ==</td>\n      <td>1/18/2018 9:11</td>\n      <td>HU</td>\n      <td>budapest</td>\n    </tr>\n    <tr>\n      <td>8</td>\n      <td>13072253</td>\n      <td>10</td>\n      <td>MTg0,DEwMzMx,A==</td>\n      <td>1/18/2018 9:27</td>\n      <td>GB</td>\n      <td>NaN</td>\n    </tr>\n    <tr>\n      <td>9</td>\n      <td>13072647</td>\n      <td>10</td>\n      <td>MTI5,zcxMTI0Mg==</td>\n      <td>1/18/2018 9:50</td>\n      <td>GB</td>\n      <td>NaN</td>\n    </tr>\n  </tbody>\n</table>\n</div>"
     },
     "metadata": {},
     "execution_count": 38
    }
   ],
   "source": [
    "surveyResponse.head(10).sort_values(by=['SURVEY_SCORE'], ascending=True, na_position='first') #null position"
   ]
  },
  {
   "cell_type": "code",
   "execution_count": null,
   "metadata": {},
   "outputs": [],
   "source": []
  }
 ],
 "metadata": {
  "language_info": {
   "codemirror_mode": {
    "name": "ipython",
    "version": 3
   },
   "file_extension": ".py",
   "mimetype": "text/x-python",
   "name": "python",
   "nbconvert_exporter": "python",
   "pygments_lexer": "ipython3",
   "version": "3.7.4-final"
  },
  "orig_nbformat": 2,
  "kernelspec": {
   "name": "python3",
   "display_name": "Python 3"
  }
 },
 "nbformat": 4,
 "nbformat_minor": 2
}