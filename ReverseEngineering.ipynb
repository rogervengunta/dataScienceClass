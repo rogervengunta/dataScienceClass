{
 "cells": [
  {
   "cell_type": "markdown",
   "metadata": {},
   "source": [
    "### REVERSE ENGINEERING A FUNC - STEPS:\n",
    "#### 1. UNDERSTAND THE CODE\n",
    "#### 2. EXECUTE PARTS OF THE FUNC\n",
    "#### 3. CREATE A FLOWCHART\n",
    "#### 4. UNIT TESTING\n",
    "#### 5. INTEGRATION TESTING"
   ]
  },
  {
   "cell_type": "code",
   "execution_count": 12,
   "metadata": {},
   "outputs": [],
   "source": [
    "def funcRecursive(numArg): #FINDING THE FACTORIAL?\n",
    "    if(numArg > 0):\n",
    "        result = numArg + funcRecursive(numArg-1) \n",
    "        print(\"if block result:\", result)\n",
    "    else:\n",
    "        result = 0\n",
    "        print(\"else block result:\", result)\n",
    "    return result"
   ]
  },
  {
   "cell_type": "code",
   "execution_count": 13,
   "metadata": {},
   "outputs": [
    {
     "output_type": "stream",
     "name": "stdout",
     "text": "\n \n Recursion example results:\n1\n3\n6\n"
    },
    {
     "output_type": "execute_result",
     "data": {
      "text/plain": "6"
     },
     "metadata": {},
     "execution_count": 13
    }
   ],
   "source": [
    "print(\"\\n \\n Recursion example results:\")\n",
    "funcRecursive(3) # why the heck is this printing the numbers it's printing?!!"
   ]
  },
  {
   "cell_type": "code",
   "execution_count": null,
   "metadata": {},
   "outputs": [],
   "source": [
    "# first iteration: result = 2 + funcRecursive(1)\n",
    "# 2nd iteration: DOES NOT go to print, but goes back to if statement - IT KEEPS GOING BACK TO THE FUNC DEF\n",
    "# result = 1 + funcRecursive(0) ---> here it goes into else statement, result becomes zero & returns result internally (not to print)\n",
    "# result = 2 + 1"
   ]
  }
 ],
 "metadata": {
  "language_info": {
   "codemirror_mode": {
    "name": "ipython",
    "version": 3
   },
   "file_extension": ".py",
   "mimetype": "text/x-python",
   "name": "python",
   "nbconvert_exporter": "python",
   "pygments_lexer": "ipython3",
   "version": "3.7.4-final"
  },
  "orig_nbformat": 2,
  "kernelspec": {
   "name": "python3",
   "display_name": "Python 3"
  }
 },
 "nbformat": 4,
 "nbformat_minor": 2
}