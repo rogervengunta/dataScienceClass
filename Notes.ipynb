{
 "cells": [
  {
   "cell_type": "markdown",
   "metadata": {},
   "source": [
    "### FEATURE SELECTION TECHNIQUES - MACHINE LEARNING:"
   ]
  },
  {
   "cell_type": "markdown",
   "metadata": {},
   "source": [
    "#### 1. Univariate selection\n",
    "#### 2. Feature importance\n",
    "#### 3. Correlation Matrix with Heat-map\n",
    "####    - All 3 are efficient"
   ]
  },
  {
   "cell_type": "markdown",
   "metadata": {},
   "source": [
    "#### ************************************************************************************\n",
    "#### Filter method - techniques(help in selecting some important features): anova test, chi square test, correlation coefficient. ——> statistical methods\n",
    "\n",
    "#### Wrapper method - forward selection, backward elimination , recursive feature elimination. ——> only for small data sets; rarely used since data sets are massive\n",
    "\n",
    "#### Embedded method: "
   ]
  },
  {
   "cell_type": "markdown",
   "metadata": {},
   "source": [
    "#### ****************\n",
    "#### First understand the scenarios, then:\n",
    "\n",
    "#### Step by step (after understanding the maths behind algos):\n",
    "\n",
    "#### 1. How algo works w/ numerical & categorical data\n",
    "#### 2. How algo works w/ text data\n",
    "#### 3. Understand classifications\n",
    "#### 4. Understand over-fitting & under-fitting conditions (hyper parameter tuning)\n",
    "#### 5. Impact of algo w/ respect to imbalanced data set"
   ]
  },
  {
   "cell_type": "markdown",
   "metadata": {},
   "source": [
    "#### **********\n",
    "#### MEMOIZATION: A TECHNIQUE USED TO INCREASE EFFICIENCY OF ALGO"
   ]
  }
 ],
 "metadata": {
  "language_info": {
   "codemirror_mode": {
    "name": "ipython",
    "version": 3
   },
   "file_extension": ".py",
   "mimetype": "text/x-python",
   "name": "python",
   "nbconvert_exporter": "python",
   "pygments_lexer": "ipython3",
   "version": 3
  },
  "orig_nbformat": 2
 },
 "nbformat": 4,
 "nbformat_minor": 2
}