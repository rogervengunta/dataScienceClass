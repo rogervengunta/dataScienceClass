{
 "cells": [
  {
   "cell_type": "markdown",
   "metadata": {},
   "source": [
    "## Efficiency of an algorithm: Big O concept"
   ]
  },
  {
   "cell_type": "markdown",
   "metadata": {},
   "source": [
    "### 2 types: time & space"
   ]
  },
  {
   "cell_type": "code",
   "execution_count": 2,
   "metadata": {},
   "outputs": [
    {
     "output_type": "stream",
     "name": "stdout",
     "text": "1\n2\n3\n4\n"
    },
    {
     "output_type": "execute_result",
     "data": {
      "text/plain": "4"
     },
     "metadata": {},
     "execution_count": 2
    }
   ],
   "source": [
    "def funcLength(arr):\n",
    "    counter = 0 # O(1) times - called of \"O of n algorithm\"\n",
    "    for _ in arr: # O(n) times; O(1) + O(n) ---> simplify by dropping O(1) [lower order terms] leaving: O(n) --> linear time\n",
    "        print(_)\n",
    "        counter += 1\n",
    "    return counter\n",
    "\n",
    "myArr = [1,2,3,4]\n",
    "funcLength(myArr)"
   ]
  },
  {
   "cell_type": "markdown",
   "metadata": {},
   "source": [
    "### Functions have a range of efficiency:\n",
    "### Best(least time), average & worst (most time)"
   ]
  },
  {
   "cell_type": "markdown",
   "metadata": {},
   "source": [
    "### ALWAYS THINK IN TERMS OF WORST CASE"
   ]
  },
  {
   "cell_type": "code",
   "execution_count": 6,
   "metadata": {},
   "outputs": [
    {
     "output_type": "execute_result",
     "data": {
      "text/plain": "0"
     },
     "metadata": {},
     "execution_count": 6
    }
   ],
   "source": [
    "#Following func tries to find the target w/in the string\n",
    "def funcIndex(string, target):\n",
    "    for i, char in enumerate(string):\n",
    "        if char == target:\n",
    "            return i\n",
    "    return -1\n",
    "\n",
    "myStr = \"a, b, c, d, e\"\n",
    "funcIndex(myStr, \"a\")\n"
   ]
  },
  {
   "cell_type": "markdown",
   "metadata": {},
   "source": [
    "### In above func: best case is O(1) if target passed is \"a\"\n",
    "### Worst case is O(n) ---> w/ big O, we always take the worst case, so above func big O is O(n)"
   ]
  }
 ],
 "metadata": {
  "language_info": {
   "codemirror_mode": {
    "name": "ipython",
    "version": 3
   },
   "file_extension": ".py",
   "mimetype": "text/x-python",
   "name": "python",
   "nbconvert_exporter": "python",
   "pygments_lexer": "ipython3",
   "version": "3.7.4-final"
  },
  "orig_nbformat": 2,
  "kernelspec": {
   "name": "python3",
   "display_name": "Python 3"
  }
 },
 "nbformat": 4,
 "nbformat_minor": 2
}