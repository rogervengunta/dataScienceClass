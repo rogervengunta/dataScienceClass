{
 "cells": [
  {
   "cell_type": "markdown",
   "metadata": {},
   "source": [
    "### FUNCTIONS - OUT OF CLASS PRACTICE:"
   ]
  },
  {
   "cell_type": "markdown",
   "metadata": {},
   "source": [
    "#### PARAMS VS ARGS: PARAM IS VAR INSIDE THE PARENTHESIS IN FUNC DEF; ARG IS THE VALUE THAT IS SENT TO FUNC WHEN IT IS CALLED\n",
    "#### PARAM:"
   ]
  },
  {
   "cell_type": "code",
   "execution_count": 1,
   "metadata": {},
   "outputs": [],
   "source": [
    "def myFunc1(arg1):\n",
    "    print(\"The argument you passed is: \", arg1)"
   ]
  },
  {
   "cell_type": "markdown",
   "metadata": {},
   "source": [
    "#### ARG THAT IS SENT TO THE FUNC:"
   ]
  },
  {
   "cell_type": "code",
   "execution_count": 2,
   "metadata": {},
   "outputs": [
    {
     "output_type": "stream",
     "name": "stdout",
     "text": "The argument you passed is:  hello\n"
    }
   ],
   "source": [
    "myFunc1(\"hello\")"
   ]
  },
  {
   "cell_type": "markdown",
   "metadata": {},
   "source": [
    "#### ARBITRARY ARGS: WHEN YOU DON'T KNOW HOW MANY ARGS WILL BE PASSED INTO FUNC\n",
    "#### ADD * BEFORE THE PARAM NAME - A TUPLE OF ARGS IS RECIEVED BY FUNC:"
   ]
  },
  {
   "cell_type": "code",
   "execution_count": 3,
   "metadata": {},
   "outputs": [],
   "source": [
    "def myFunc2(*args):\n",
    "    print(\"Arbitrary args - tuple: \")\n",
    "    print(\"args[0] is: \", args[0])\n",
    "    print(\"args[1] is: \", args[1])\n",
    "    print(\"args[2] is: \", args[2])"
   ]
  },
  {
   "cell_type": "code",
   "execution_count": 4,
   "metadata": {},
   "outputs": [
    {
     "output_type": "stream",
     "name": "stdout",
     "text": "Arbitrary args - tuple: \nargs[0] is:  dogs\nargs[1] is:  cats\nargs[2] is:  rats\n"
    }
   ],
   "source": [
    "# Calling func w/ arbitrary args:\n",
    "myFunc2(\"dogs\", \"cats\", \"rats\", \"squirrels\")"
   ]
  },
  {
   "cell_type": "markdown",
   "metadata": {},
   "source": [
    "#### KEYWORD ARGS: SEND ARGS WITH KEY=VALUE SYNTAX\n",
    "#### THIS WAY - ORDER OF ARGS DOES NOT MATTER"
   ]
  },
  {
   "cell_type": "code",
   "execution_count": 13,
   "metadata": {},
   "outputs": [],
   "source": [
    "def myFunc3(arg1=\"default1\", arg2=\"default2\", arg3=\"default3\"):\n",
    "    print(\"First arg value is: \", arg1)\n",
    "    print(\"Second arg value is: \", arg2)\n",
    "    print(\"The arg passed in is: \", arg3)"
   ]
  },
  {
   "cell_type": "code",
   "execution_count": 14,
   "metadata": {},
   "outputs": [
    {
     "output_type": "stream",
     "name": "stdout",
     "text": "First arg value is:  default1\nSecond arg value is:  default2\nThe arg passed in is:  hi there\n"
    }
   ],
   "source": [
    "myFunc3(arg3=\"hi there\")"
   ]
  },
  {
   "cell_type": "markdown",
   "metadata": {},
   "source": [
    "#### IF NUMBER OF KEYWORD ARGS IS UNKNOWN, ADD TWO ASTERISKS (**) BEFORE PARAM NAME - **kwargs"
   ]
  },
  {
   "cell_type": "code",
   "execution_count": 11,
   "metadata": {},
   "outputs": [],
   "source": [
    "def myFunc4(**args):\n",
    "    print(\"The following args were passed: \", args[\"arg1\"], \"&\", args[\"arg2\"])"
   ]
  },
  {
   "cell_type": "code",
   "execution_count": 12,
   "metadata": {},
   "outputs": [
    {
     "output_type": "stream",
     "name": "stdout",
     "text": "The following args were passed:  USA & Texas\n"
    }
   ],
   "source": [
    "myFunc4(arg1=\"USA\", arg2=\"Texas\")"
   ]
  },
  {
   "cell_type": "markdown",
   "metadata": {},
   "source": [
    "#### RETURN VALUES: HAVE A FUNC RETURN A VALUE:"
   ]
  },
  {
   "cell_type": "code",
   "execution_count": 15,
   "metadata": {},
   "outputs": [],
   "source": [
    "def myFunc5(numArg):\n",
    "    return 5 * numArg"
   ]
  },
  {
   "cell_type": "code",
   "execution_count": 16,
   "metadata": {},
   "outputs": [
    {
     "output_type": "stream",
     "name": "stdout",
     "text": "100\n"
    }
   ],
   "source": [
    "print(myFunc5(20))"
   ]
  },
  {
   "cell_type": "markdown",
   "metadata": {},
   "source": [
    "#### FUNC RECURSION: FUNC CALLS ITSELF\n",
    "#### IF WRITTEN CORRECTLY - RECURSIVE FUNC IS EFFICIENT & ELEGANT; IF INCORRECTLY WRITTEN - HUGE MEMORY LOAD"
   ]
  },
  {
   "cell_type": "code",
   "execution_count": 17,
   "metadata": {},
   "outputs": [],
   "source": [
    "def funcRecursive(numArg):\n",
    "    if(numArg > 0):\n",
    "        result = numArg + funcRecursive(numArg-1)\n",
    "        print(result)\n",
    "    else:\n",
    "        result = 0\n",
    "    return result"
   ]
  },
  {
   "cell_type": "code",
   "execution_count": 18,
   "metadata": {},
   "outputs": [
    {
     "output_type": "stream",
     "name": "stdout",
     "text": "\n \n Recursion example results:\n1\n3\n6\n10\n15\n21\n"
    },
    {
     "output_type": "execute_result",
     "data": {
      "text/plain": "21"
     },
     "metadata": {},
     "execution_count": 18
    }
   ],
   "source": [
    "print(\"\\n \\n Recursion example results:\")\n",
    "funcRecursive(6) # why the heck is this printing the numbers it's printing?!!"
   ]
  },
  {
   "cell_type": "code",
   "execution_count": null,
   "metadata": {},
   "outputs": [],
   "source": []
  }
 ],
 "metadata": {
  "language_info": {
   "codemirror_mode": {
    "name": "ipython",
    "version": 3
   },
   "file_extension": ".py",
   "mimetype": "text/x-python",
   "name": "python",
   "nbconvert_exporter": "python",
   "pygments_lexer": "ipython3",
   "version": "3.7.4-final"
  },
  "orig_nbformat": 2,
  "kernelspec": {
   "name": "python3",
   "display_name": "Python 3"
  }
 },
 "nbformat": 4,
 "nbformat_minor": 2
}