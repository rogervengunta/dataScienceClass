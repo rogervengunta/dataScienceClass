{
 "cells": [
  {
   "cell_type": "markdown",
   "metadata": {},
   "source": [
    "### PYTHON COLLECTIONS (ARRAYS) - 4 TYPES:\n",
    "### 1. LISTS\n",
    "### 2. TUPLES\n",
    "### 3. DICTS (DICTIONARIES)\n",
    "### 4. SETS"
   ]
  },
  {
   "cell_type": "markdown",
   "metadata": {},
   "source": [
    "#### LISTS:"
   ]
  },
  {
   "cell_type": "code",
   "execution_count": 1,
   "metadata": {},
   "outputs": [
    {
     "output_type": "stream",
     "name": "stdout",
     "text": "<class 'list'>\ngoat\n['goat', 'dog', 'cat', 'rat', 'tiger']\n"
    }
   ],
   "source": [
    "#Create LIST; LIST is ordered & mutable\n",
    "#Created by square braces\n",
    "myList = [\"monkey\", \"dog\", \"cat\", \"rat\", \"tiger\", \"mat\"]\n",
    "print(type(myList))\n",
    "myList[0] = \"goat\"\n",
    "print(myList[0])\n",
    "print(myList) #Q: Why is it not showing in ascending order?"
   ]
  },
  {
   "cell_type": "code",
   "execution_count": 4,
   "metadata": {},
   "outputs": [
    {
     "output_type": "stream",
     "name": "stdout",
     "text": "['dog', 'cat', 'rat']\n"
    }
   ],
   "source": [
    "#Negative indexing in lists - starts from right, instead of left to right\n",
    "print(myList[-4:-1]) #starts from right, gets 4th elem, then gets everything to the right of it until -1 (which is rat)"
   ]
  },
  {
   "cell_type": "markdown",
   "metadata": {},
   "source": [
    "#### TUPLES (LISTS OF ITEMS):"
   ]
  },
  {
   "cell_type": "markdown",
   "metadata": {},
   "source": [
    "#### PACKING OF TUPLES (ASSIGN MULTIPLE VALS TO A SINGLE VAR - WHICH ARE PACKED INTO A TUPLE, BY DEFAULT)"
   ]
  },
  {
   "cell_type": "code",
   "execution_count": 5,
   "metadata": {},
   "outputs": [
    {
     "output_type": "stream",
     "name": "stdout",
     "text": "<class 'tuple'>\napples\noranges\npears\npeaches\nstrawberries\napricots\n"
    }
   ],
   "source": [
    "#Create TUPLE & loop through it\n",
    "#TUPLE is created w/ parenthesis; is immutable\n",
    "myTup = (\"apples\", \"oranges\", \"pears\", \"peaches\", \"strawberries\", \"apricots\")\n",
    "print(type(myTup))\n",
    "\n",
    "#Loop through tuple\n",
    "for x in myTup:\n",
    "    print(x)"
   ]
  },
  {
   "cell_type": "markdown",
   "metadata": {},
   "source": [
    "#### TUPLE PACKING & UNPACKING"
   ]
  },
  {
   "cell_type": "code",
   "execution_count": 4,
   "metadata": {},
   "outputs": [
    {
     "output_type": "stream",
     "name": "stdout",
     "text": "1 2 3 USA\n<class 'tuple'>\n"
    }
   ],
   "source": [
    "#TUPLE PACKING\n",
    "tup = (1,2,3,\"USA\")\n",
    "\n",
    "#TUPLE UNPACKING\n",
    "a,b,c,d = tup\n",
    "print(a, b, c, d)\n",
    "print(type(tup))"
   ]
  },
  {
   "cell_type": "markdown",
   "metadata": {},
   "source": [
    "#### DICTS:"
   ]
  },
  {
   "cell_type": "code",
   "execution_count": 2,
   "metadata": {},
   "outputs": [
    {
     "output_type": "stream",
     "name": "stdout",
     "text": "<class 'dict'>\n*****************\nbrand\nmodel\nyear\ncolor\n*****************\nJeep\nGrand Cherokee\n2020\nblue metallic\n*****************\nbrand : Jeep\nmodel : Grand Cherokee\nyear : 2020\ncolor : blue metallic\n*****************\n<class 'dict'>\nResult of fromkeys() function: {'key1': 0, 'key2': 0, 'key3': 0}\n"
    }
   ],
   "source": [
    "#Create DICT & loop through it\n",
    "#DICT is a key/val pair (similar to json obj in javascript); 'unordered' collection of data\n",
    "myDict = {\n",
    "            \"brand\":\"Jeep\",\n",
    "            \"model\":\"Grand Cherokee\",\n",
    "            \"year\": 2020,\n",
    "            \"color\":\"blue metallic\"\n",
    "        }\n",
    "print(type(myDict))\n",
    "print(\"*****************\")\n",
    "#Loop through a dict\n",
    "#Loop through keys\n",
    "for key in myDict:\n",
    "    print(key)\n",
    "\n",
    "print(\"*****************\")\n",
    "\n",
    "#Loop through values\n",
    "for val in myDict.values():\n",
    "    print(val)\n",
    "print(\"*****************\")\n",
    "\n",
    "#Loop through key/val pairs\n",
    "for myKey, myVal in myDict.items():\n",
    "    print(myKey, \":\", myVal)\n",
    "\n",
    "#fromkeys() method: returns a dictionary w/ the specified keys & the specified value\n",
    "xkeys = ('key1', 'key2', 'key3')\n",
    "yvals = 0\n",
    "myDict2 = dict.fromkeys(xkeys, yvals)\n",
    "print(\"*****************\")\n",
    "print(type(myDict2))\n",
    "print(\"Result of fromkeys() function:\", myDict2)\n"
   ]
  },
  {
   "cell_type": "markdown",
   "metadata": {},
   "source": [
    "#### SETS:"
   ]
  },
  {
   "cell_type": "code",
   "execution_count": 8,
   "metadata": {},
   "outputs": [
    {
     "output_type": "stream",
     "name": "stdout",
     "text": "<class 'set'>\n{'euros', 'pesos', 'lira', 'dollars', 'rupees', 'pounds'}\n*******************\nAccess items in set via for loop:\neuros\npesos\nlira\ndollars\nrupees\npounds\n*******************\nCheck if dollars is present in set via add func:\nTrue\n*******************\nAdd ONE item to set:\n{'euros', 'rubles', 'pesos', 'lira', 'dollars', 'rupees', 'pounds'}\n*******************\nAdd MULTIPLE items to set via update func: \n{'riyals', 'euros', 'rubles', 'dirhams', 'pesos', 'lira', 'dollars', 'rupees', 'kroners', 'pounds'}\n*******************\nLength of set via len func: \n10\n"
    }
   ],
   "source": [
    "# Create a set - unordered & unindexed; sets are mutable but items in a set CANNOT BE changed, but can be added\n",
    "# Doesn't allow indexing\n",
    "# Written w/ curly braces {}\n",
    "mySet = {\"dollars\", \"rupees\", \"pounds\", \"lira\", \"pesos\", \"euros\"}\n",
    "print(type(mySet))\n",
    "print(mySet)\n",
    "\n",
    "#Access items via loop\n",
    "print(\"*******************\")\n",
    "print(\"Access items in set via for loop:\")\n",
    "for setItem in mySet:\n",
    "    print(setItem)\n",
    "\n",
    "#Check if an item is present in set:\n",
    "print(\"*******************\")\n",
    "print(\"Check if dollars is present in set via add func:\")\n",
    "print(\"dollars\" in mySet)\n",
    "\n",
    "#Add items to set:\n",
    "print(\"*******************\")\n",
    "print(\"Add ONE item to set:\")\n",
    "mySet.add(\"rubles\")\n",
    "print(mySet)\n",
    "print(\"*******************\")\n",
    "print(\"Add MULTIPLE items to set via update func: \")\n",
    "mySet.update([\"dirhams\", \"riyals\", \"kroners\"])\n",
    "print(mySet)\n",
    "\n",
    "#Get length of a set via len func:\n",
    "print(\"*******************\")\n",
    "print(\"Length of set via len func: \")\n",
    "print(len(mySet))\n",
    "\n",
    "#Copy function - does a 'shallow' copy (doesn't create a separate memory space) ??\n",
    "r={1:'tree',2}"
   ]
  },
  {
   "cell_type": "markdown",
   "metadata": {},
   "source": [
    "#### SETS - CONTD:"
   ]
  },
  {
   "cell_type": "code",
   "execution_count": 9,
   "metadata": {},
   "outputs": [
    {
     "output_type": "stream",
     "name": "stdout",
     "text": "*******************\n"
    },
    {
     "output_type": "error",
     "ename": "KeyError",
     "evalue": "'rupaiya'",
     "traceback": [
      "\u001b[0;31m---------------------------------------------------------------------------\u001b[0m",
      "\u001b[0;31mKeyError\u001b[0m                                  Traceback (most recent call last)",
      "\u001b[0;32m<ipython-input-9-680f78f967c3>\u001b[0m in \u001b[0;36m<module>\u001b[0;34m\u001b[0m\n\u001b[1;32m      1\u001b[0m \u001b[0;31m#Remove an item via remove func (errors out if item is not present):\u001b[0m\u001b[0;34m\u001b[0m\u001b[0;34m\u001b[0m\u001b[0;34m\u001b[0m\u001b[0m\n\u001b[1;32m      2\u001b[0m \u001b[0mprint\u001b[0m\u001b[0;34m(\u001b[0m\u001b[0;34m\"*******************\"\u001b[0m\u001b[0;34m)\u001b[0m\u001b[0;34m\u001b[0m\u001b[0;34m\u001b[0m\u001b[0m\n\u001b[0;32m----> 3\u001b[0;31m \u001b[0mmySet\u001b[0m\u001b[0;34m.\u001b[0m\u001b[0mremove\u001b[0m\u001b[0;34m(\u001b[0m\u001b[0;34m\"rupaiya\"\u001b[0m\u001b[0;34m)\u001b[0m\u001b[0;34m\u001b[0m\u001b[0;34m\u001b[0m\u001b[0m\n\u001b[0m",
      "\u001b[0;31mKeyError\u001b[0m: 'rupaiya'"
     ]
    }
   ],
   "source": [
    "#Remove an item via remove func (errors out if item is not present):\n",
    "print(\"*******************\")\n",
    "mySet.remove(\"rupaiya\")"
   ]
  },
  {
   "cell_type": "code",
   "execution_count": 10,
   "metadata": {},
   "outputs": [
    {
     "output_type": "stream",
     "name": "stdout",
     "text": "*******************\n{'riyals', 'euros', 'rubles', 'dirhams', 'pesos', 'lira', 'dollars', 'rupees', 'kroners', 'pounds'}\n"
    }
   ],
   "source": [
    "#Remove an item in set via discard method (will not error if item is not present):\n",
    "print(\"*******************\")\n",
    "mySet.discard(\"rupaiya\")\n",
    "print(mySet)"
   ]
  },
  {
   "cell_type": "code",
   "execution_count": 13,
   "metadata": {},
   "outputs": [
    {
     "output_type": "stream",
     "name": "stdout",
     "text": "*******************\n{2, 3, 'riyals', 5, 6, 'euros', 'rubles', 'dirhams', 'pesos', 'lira', 'yen', 'dollars', 'rupees', 'kroners', 'pounds'}\n"
    }
   ],
   "source": [
    "# Join TWO sets via union method:\n",
    "mySet2 = {3,2,5,6, \"yen\", \"rupees\"}\n",
    "mySet3 = mySet.union(mySet2)\n",
    "print(\"*******************\")\n",
    "print(mySet3)"
   ]
  },
  {
   "cell_type": "markdown",
   "metadata": {},
   "source": [
    "#### SET METHODS - CONTD:"
   ]
  },
  {
   "cell_type": "code",
   "execution_count": 14,
   "metadata": {},
   "outputs": [
    {
     "output_type": "stream",
     "name": "stdout",
     "text": "*******************\nIntersection of two sets: \n{'rupees'}\n"
    }
   ],
   "source": [
    "# Intersection method - returns a set, that is intersection of two sets (aka - inner join):\n",
    "mySet4 = mySet.intersection(mySet2)\n",
    "print(\"*******************\")\n",
    "print(\"Intersection of two sets: \")\n",
    "print(mySet4)"
   ]
  },
  {
   "cell_type": "code",
   "execution_count": null,
   "metadata": {},
   "outputs": [],
   "source": []
  }
 ],
 "metadata": {
  "language_info": {
   "codemirror_mode": {
    "name": "ipython",
    "version": 3
   },
   "file_extension": ".py",
   "mimetype": "text/x-python",
   "name": "python",
   "nbconvert_exporter": "python",
   "pygments_lexer": "ipython3",
   "version": "3.7.4-final"
  },
  "orig_nbformat": 2,
  "kernelspec": {
   "name": "python3",
   "display_name": "Python 3"
  }
 },
 "nbformat": 4,
 "nbformat_minor": 2
}