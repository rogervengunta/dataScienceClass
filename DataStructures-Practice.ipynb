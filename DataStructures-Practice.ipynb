{
 "cells": [
  {
   "cell_type": "code",
   "execution_count": 5,
   "metadata": {},
   "outputs": [
    {
     "output_type": "stream",
     "name": "stdout",
     "text": "<class 'tuple'>\napples\noranges\npears\npeaches\nstrawberries\napricots\n"
    }
   ],
   "source": [
    "#Create tuple & loop through it\n",
    "#Tuple is created w/ parenthesis\n",
    "myTup = (\"apples\", \"oranges\", \"pears\", \"peaches\", \"strawberries\", \"apricots\")\n",
    "print(type(myTup))\n",
    "\n",
    "#Loop through tuple\n",
    "for x in myTup:\n",
    "    print(x)"
   ]
  },
  {
   "cell_type": "code",
   "execution_count": 14,
   "metadata": {},
   "outputs": [
    {
     "output_type": "stream",
     "name": "stdout",
     "text": "<class 'dict'>\n*****************\nbrand\nmodel\nyear\ncolor\n*****************\nJeep\nGrand Cherokee\n2020\nblue metallic\n*****************\nbrand : Jeep\nmodel : Grand Cherokee\nyear : 2020\ncolor : blue metallic\n"
    }
   ],
   "source": [
    "#Create dict & loop through it\n",
    "#Dict is a key/val pair (similar to json obj in javascript); 'unordered' collection of data\n",
    "myDict = {\n",
    "            \"brand\":\"Jeep\",\n",
    "            \"model\":\"Grand Cherokee\",\n",
    "            \"year\": 2020,\n",
    "            \"color\":\"blue metallic\"\n",
    "        }\n",
    "print(type(myDict))\n",
    "print(\"*****************\")\n",
    "#Loop through a dict\n",
    "#Loop through keys\n",
    "for key in myDict:\n",
    "    print(key)\n",
    "\n",
    "print(\"*****************\")\n",
    "\n",
    "#Loop through values\n",
    "for val in myDict.values():\n",
    "    print(val)\n",
    "print(\"*****************\")\n",
    "\n",
    "#Loop through key/val pairs\n",
    "for myKey, myVal in myDict.items():\n",
    "    print(myKey, \":\", myVal)\n"
   ]
  },
  {
   "cell_type": "code",
   "execution_count": null,
   "metadata": {},
   "outputs": [],
   "source": []
  }
 ],
 "metadata": {
  "language_info": {
   "codemirror_mode": {
    "name": "ipython",
    "version": 3
   },
   "file_extension": ".py",
   "mimetype": "text/x-python",
   "name": "python",
   "nbconvert_exporter": "python",
   "pygments_lexer": "ipython3",
   "version": "3.7.4-final"
  },
  "orig_nbformat": 2,
  "kernelspec": {
   "name": "python3",
   "display_name": "Python 3"
  }
 },
 "nbformat": 4,
 "nbformat_minor": 2
}