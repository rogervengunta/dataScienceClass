{
 "cells": [
  {
   "cell_type": "markdown",
   "metadata": {},
   "source": [
    "###Tuples"
   ]
  },
  {
   "cell_type": "code",
   "execution_count": 2,
   "metadata": {},
   "outputs": [
    {
     "output_type": "execute_result",
     "data": {
      "text/plain": "tuple"
     },
     "metadata": {},
     "execution_count": 2
    }
   ],
   "source": [
    "#Tuples [immutable=once created, cannot change vals; lists in tuples can be changed though]\n",
    "countries = ('India', 'USA', 'UK', 'Singapore')\n",
    "type(countries)"
   ]
  },
  {
   "cell_type": "code",
   "execution_count": 3,
   "metadata": {},
   "outputs": [
    {
     "output_type": "execute_result",
     "data": {
      "text/plain": "tuple"
     },
     "metadata": {},
     "execution_count": 3
    }
   ],
   "source": [
    "#Packing: assign multiple vals to single var which is a tuple, without using parenthesis\n",
    "regions = 'Asia', 'Europe', 'N America', 'S America'\n",
    "type(regions)"
   ]
  },
  {
   "cell_type": "code",
   "execution_count": 4,
   "metadata": {},
   "outputs": [
    {
     "output_type": "execute_result",
     "data": {
      "text/plain": "tuple"
     },
     "metadata": {},
     "execution_count": 4
    }
   ],
   "source": [
    "num = 1,5,7,'three'\n",
    "type(num)"
   ]
  },
  {
   "cell_type": "code",
   "execution_count": 6,
   "metadata": {},
   "outputs": [
    {
     "output_type": "stream",
     "name": "stdout",
     "text": "1 5 7\n"
    }
   ],
   "source": [
    "#Unpacking: tupble concept, counter-feature to packing, re-assign to multiple vars in sequence\n",
    "a,b,c,d = num\n",
    "print(a,b,c)"
   ]
  },
  {
   "cell_type": "code",
   "execution_count": 7,
   "metadata": {},
   "outputs": [
    {
     "output_type": "execute_result",
     "data": {
      "text/plain": "int"
     },
     "metadata": {},
     "execution_count": 7
    }
   ],
   "source": [
    "type(a)"
   ]
  },
  {
   "cell_type": "code",
   "execution_count": 9,
   "metadata": {},
   "outputs": [
    {
     "output_type": "execute_result",
     "data": {
      "text/plain": "str"
     },
     "metadata": {},
     "execution_count": 9
    }
   ],
   "source": [
    "#Assigning 1 item to a tuple\n",
    "trees = ('Neem')\n",
    "type(trees)\n",
    "#Side effect of having 1 item only - will get the type of that single value"
   ]
  },
  {
   "cell_type": "code",
   "execution_count": 10,
   "metadata": {},
   "outputs": [
    {
     "output_type": "execute_result",
     "data": {
      "text/plain": "tuple"
     },
     "metadata": {},
     "execution_count": 10
    }
   ],
   "source": [
    "#To overcome side effect of 1 item only tuple\n",
    "trees = ('Neem',)\n",
    "type(trees)"
   ]
  },
  {
   "cell_type": "code",
   "execution_count": 11,
   "metadata": {},
   "outputs": [
    {
     "output_type": "execute_result",
     "data": {
      "text/plain": "tuple"
     },
     "metadata": {},
     "execution_count": 11
    }
   ],
   "source": [
    "#tuple inside a tuple as well as different types of values in a single tuple\n",
    "var1 = (2,4,9, 'eight', (5,6,7))\n",
    "type(var1)"
   ]
  },
  {
   "cell_type": "code",
   "execution_count": 13,
   "metadata": {},
   "outputs": [
    {
     "output_type": "execute_result",
     "data": {
      "text/plain": "'california'"
     },
     "metadata": {},
     "execution_count": 13
    }
   ],
   "source": [
    "#tuples are accessed via indices\n",
    "var2 = ('california', 'texas', 'georgia', 'tennessee', 'arizona')\n",
    "var2[0]"
   ]
  },
  {
   "cell_type": "code",
   "execution_count": 14,
   "metadata": {},
   "outputs": [
    {
     "output_type": "execute_result",
     "data": {
      "text/plain": "('georgia', 'tennessee')"
     },
     "metadata": {},
     "execution_count": 14
    }
   ],
   "source": [
    "#slicing & dicing of tuples; traversal happens from left to right; if negative index is provided - it starts on right\n",
    "var2[2:4]"
   ]
  },
  {
   "cell_type": "code",
   "execution_count": 15,
   "metadata": {},
   "outputs": [
    {
     "output_type": "execute_result",
     "data": {
      "text/plain": "('georgia', 'tennessee', 'arizona')"
     },
     "metadata": {},
     "execution_count": 15
    }
   ],
   "source": [
    "var2[2:]"
   ]
  },
  {
   "cell_type": "code",
   "execution_count": 16,
   "metadata": {},
   "outputs": [
    {
     "output_type": "execute_result",
     "data": {
      "text/plain": "('california', 'texas', 'georgia')"
     },
     "metadata": {},
     "execution_count": 16
    }
   ],
   "source": [
    "var2[:-2]"
   ]
  },
  {
   "cell_type": "code",
   "execution_count": 19,
   "metadata": {},
   "outputs": [
    {
     "output_type": "execute_result",
     "data": {
      "text/plain": "('georgia', 'tennessee', 'arizona')"
     },
     "metadata": {},
     "execution_count": 19
    }
   ],
   "source": [
    "var2[-3:17]"
   ]
  },
  {
   "cell_type": "code",
   "execution_count": 20,
   "metadata": {},
   "outputs": [
    {
     "output_type": "execute_result",
     "data": {
      "text/plain": "(2, 4, 9, 'eight', (5, 6, 7))"
     },
     "metadata": {},
     "execution_count": 20
    }
   ],
   "source": [
    "var1"
   ]
  },
  {
   "cell_type": "code",
   "execution_count": 21,
   "metadata": {},
   "outputs": [
    {
     "output_type": "error",
     "ename": "TypeError",
     "evalue": "'tuple' object doesn't support item deletion",
     "traceback": [
      "\u001b[0;31m---------------------------------------------------------------------------\u001b[0m",
      "\u001b[0;31mTypeError\u001b[0m                                 Traceback (most recent call last)",
      "\u001b[0;32m<ipython-input-21-f2a87991a81e>\u001b[0m in \u001b[0;36m<module>\u001b[0;34m\u001b[0m\n\u001b[0;32m----> 1\u001b[0;31m \u001b[0;32mdel\u001b[0m \u001b[0mvar1\u001b[0m\u001b[0;34m[\u001b[0m\u001b[0;36m3\u001b[0m\u001b[0;34m]\u001b[0m\u001b[0;34m\u001b[0m\u001b[0;34m\u001b[0m\u001b[0m\n\u001b[0m",
      "\u001b[0;31mTypeError\u001b[0m: 'tuple' object doesn't support item deletion"
     ]
    }
   ],
   "source": [
    "#values in a tuple can't be deleted; except in certain cases\n",
    "del var1[3]"
   ]
  },
  {
   "cell_type": "code",
   "execution_count": 22,
   "metadata": {},
   "outputs": [
    {
     "output_type": "execute_result",
     "data": {
      "text/plain": "5"
     },
     "metadata": {},
     "execution_count": 22
    }
   ],
   "source": [
    "var1[4][0]"
   ]
  },
  {
   "cell_type": "code",
   "execution_count": 23,
   "metadata": {},
   "outputs": [
    {
     "output_type": "execute_result",
     "data": {
      "text/plain": "3"
     },
     "metadata": {},
     "execution_count": 23
    }
   ],
   "source": [
    "#Index method returns first match\n",
    "religions = ('Hinduism', 'Christianity', 'Hinduism', 'Buddhism', 'Sikhism')\n",
    "religions.index('Buddhism')"
   ]
  },
  {
   "cell_type": "code",
   "execution_count": 24,
   "metadata": {},
   "outputs": [
    {
     "output_type": "execute_result",
     "data": {
      "text/plain": "1"
     },
     "metadata": {},
     "execution_count": 24
    }
   ],
   "source": [
    "religions.count('Sikhism')"
   ]
  },
  {
   "cell_type": "markdown",
   "metadata": {},
   "source": [
    "### Exercises"
   ]
  },
  {
   "cell_type": "code",
   "execution_count": 1,
   "metadata": {},
   "outputs": [
    {
     "output_type": "execute_result",
     "data": {
      "text/plain": "4"
     },
     "metadata": {},
     "execution_count": 1
    }
   ],
   "source": [
    "test_tuple = (1,24,5, (8,9, 'this is a list inside a tuple'))\n",
    "len(test_tuple)"
   ]
  },
  {
   "cell_type": "code",
   "execution_count": 4,
   "metadata": {},
   "outputs": [
    {
     "output_type": "error",
     "ename": "TypeError",
     "evalue": "'>' not supported between instances of 'tuple' and 'int'",
     "traceback": [
      "\u001b[0;31m---------------------------------------------------------------------------\u001b[0m",
      "\u001b[0;31mTypeError\u001b[0m                                 Traceback (most recent call last)",
      "\u001b[0;32m<ipython-input-4-6b16e81554c3>\u001b[0m in \u001b[0;36m<module>\u001b[0;34m\u001b[0m\n\u001b[1;32m      1\u001b[0m \u001b[0mtest_tuple2\u001b[0m \u001b[0;34m=\u001b[0m \u001b[0;36m7\u001b[0m\u001b[0;34m,\u001b[0m\u001b[0;36m8\u001b[0m\u001b[0;34m,\u001b[0m\u001b[0;36m9\u001b[0m\u001b[0;34m\u001b[0m\u001b[0;34m\u001b[0m\u001b[0m\n\u001b[0;32m----> 2\u001b[0;31m \u001b[0mmax\u001b[0m\u001b[0;34m(\u001b[0m\u001b[0mtest_tuple\u001b[0m\u001b[0;34m)\u001b[0m\u001b[0;34m\u001b[0m\u001b[0;34m\u001b[0m\u001b[0m\n\u001b[0m",
      "\u001b[0;31mTypeError\u001b[0m: '>' not supported between instances of 'tuple' and 'int'"
     ]
    }
   ],
   "source": [
    "test_tuple2 = 7,8,9\n",
    "max(test_tuple)"
   ]
  },
  {
   "cell_type": "code",
   "execution_count": 5,
   "metadata": {},
   "outputs": [
    {
     "output_type": "execute_result",
     "data": {
      "text/plain": "24"
     },
     "metadata": {},
     "execution_count": 5
    }
   ],
   "source": [
    "sum(test_tuple2)"
   ]
  },
  {
   "cell_type": "code",
   "execution_count": 6,
   "metadata": {},
   "outputs": [
    {
     "output_type": "execute_result",
     "data": {
      "text/plain": "True"
     },
     "metadata": {},
     "execution_count": 6
    }
   ],
   "source": [
    "any(test_tuple2)"
   ]
  },
  {
   "cell_type": "code",
   "execution_count": 7,
   "metadata": {},
   "outputs": [
    {
     "output_type": "execute_result",
     "data": {
      "text/plain": "True"
     },
     "metadata": {},
     "execution_count": 7
    }
   ],
   "source": [
    "all(test_tuple2)"
   ]
  },
  {
   "cell_type": "code",
   "execution_count": 9,
   "metadata": {},
   "outputs": [
    {
     "output_type": "execute_result",
     "data": {
      "text/plain": "[7, 8, 9]"
     },
     "metadata": {},
     "execution_count": 9
    }
   ],
   "source": [
    "sorted(test_tuple2)"
   ]
  },
  {
   "cell_type": "code",
   "execution_count": 10,
   "metadata": {},
   "outputs": [
    {
     "output_type": "execute_result",
     "data": {
      "text/plain": "(7, 8, 9)"
     },
     "metadata": {},
     "execution_count": 10
    }
   ],
   "source": [
    "tuple(test_tuple2)"
   ]
  },
  {
   "cell_type": "markdown",
   "metadata": {},
   "source": [
    "### COPY METHOD: RETURNS COPY OF THE SET:\n",
    "#### VARIATIONS WHEY COPYING USING COPY() VS = OPERATOR:-\n",
    "\n"
   ]
  },
  {
   "cell_type": "code",
   "execution_count": 3,
   "metadata": {},
   "outputs": [
    {
     "output_type": "stream",
     "name": "stdout",
     "text": "<class 'set'>\n<class 'set'>\nnamesSet is:  {'Reagan', 'Trump', 'JFK'}\nnames2 is:  {'Reagan', 'Trump', 'JFK'}\n************\nnames2 after adding a new elem is:  {'Reagan', 'Roosevelt', 'Trump', 'JFK'}\nnamesSet after adding new elem to names2 is:  {'Reagan', 'Roosevelt', 'Trump', 'JFK'}\n"
    }
   ],
   "source": [
    "#Using the = (assignment) operator - aka 'deep copy':\n",
    "namesSet = {\"Reagan\", \"JFK\", \"Trump\"}\n",
    "names2 = namesSet\n",
    "print(type(namesSet))\n",
    "print(type(names2))\n",
    "print(\"namesSet is: \", namesSet)\n",
    "print(\"names2 is: \", names2)\n",
    "print(\"************\")\n",
    "\n",
    "#adding new element in the new set\n",
    "names2.add(\"Roosevelt\") #Since names2 was assigned the values of namesSet via ASSIGNMENT OPERATOR - a 'deep copy' was performed\n",
    "print(\"names2 after adding a new elem is: \", names2)\n",
    "print(\"namesSet after adding new elem to names2 is: \", namesSet)"
   ]
  },
  {
   "cell_type": "code",
   "execution_count": 4,
   "metadata": {},
   "outputs": [
    {
     "output_type": "stream",
     "name": "stdout",
     "text": "************\npresidents has following elems:  {'Reagan', 'Trump', 'JFK'}\npresidents2 has follwong elems:  {'Reagan', 'Trump', 'JFK'}\npresidents after adding elem to presidents2 is:  {'Reagan', 'Trump', 'JFK'}\npresidents2 after adding elem to presidents2 is:  {'Reagan', 'TR', 'Trump', 'JFK'}\n"
    }
   ],
   "source": [
    "#Using the copy() method instead of = operator - aka shallow copy\n",
    "presidents = {\"Reagan\", \"JFK\", \"Trump\"}\n",
    "presidents2 = presidents.copy()\n",
    "print(\"************\")\n",
    "print(\"presidents has following elems: \", presidents)\n",
    "print(\"presidents2 has follwong elems: \", presidents2)\n",
    "presidents2.add(\"TR\")\n",
    "print(\"presidents after adding elem to presidents2 is: \", presidents)\n",
    "print(\"presidents2 after adding elem to presidents2 is: \", presidents2)"
   ]
  },
  {
   "cell_type": "code",
   "execution_count": null,
   "metadata": {},
   "outputs": [],
   "source": []
  }
 ],
 "metadata": {
  "language_info": {
   "name": "python",
   "codemirror_mode": {
    "name": "ipython",
    "version": 3
   },
   "version": "3.7.4-final"
  },
  "orig_nbformat": 2,
  "file_extension": ".py",
  "mimetype": "text/x-python",
  "name": "python",
  "npconvert_exporter": "python",
  "pygments_lexer": "ipython3",
  "version": 3,
  "kernelspec": {
   "name": "python3",
   "display_name": "Python 3"
  }
 },
 "nbformat": 4,
 "nbformat_minor": 2
}