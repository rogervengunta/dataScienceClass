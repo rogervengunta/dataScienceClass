{
 "nbformat": 4,
 "nbformat_minor": 2,
 "metadata": {
  "language_info": {
   "name": "python",
   "codemirror_mode": {
    "name": "ipython",
    "version": 3
   },
   "version": "3.7.4-final"
  },
  "orig_nbformat": 2,
  "file_extension": ".py",
  "mimetype": "text/x-python",
  "name": "python",
  "npconvert_exporter": "python",
  "pygments_lexer": "ipython3",
  "version": 3,
  "kernelspec": {
   "name": "python3",
   "display_name": "Python 3"
  }
 },
 "cells": [
  {
   "cell_type": "markdown",
   "metadata": {},
   "source": [
    "### Class Dog"
   ]
  },
  {
   "cell_type": "code",
   "execution_count": 1,
   "metadata": {},
   "outputs": [],
   "source": [
    "class Dog:\n",
    "    pass"
   ]
  },
  {
   "cell_type": "code",
   "execution_count": 2,
   "metadata": {},
   "outputs": [
    {
     "output_type": "execute_result",
     "data": {
      "text/plain": "<__main__.Dog at 0x10bdc1050>"
     },
     "metadata": {},
     "execution_count": 2
    }
   ],
   "source": [
    "Dog()"
   ]
  },
  {
   "cell_type": "code",
   "execution_count": 4,
   "metadata": {},
   "outputs": [
    {
     "output_type": "execute_result",
     "data": {
      "text/plain": "False"
     },
     "metadata": {},
     "execution_count": 4
    }
   ],
   "source": [
    "a = Dog()\n",
    "b = Dog()\n",
    "a == b"
   ]
  },
  {
   "cell_type": "code",
   "execution_count": 5,
   "metadata": {},
   "outputs": [
    {
     "output_type": "execute_result",
     "data": {
      "text/plain": "__main__.Dog"
     },
     "metadata": {},
     "execution_count": 5
    }
   ],
   "source": [
    "a = Dog()\n",
    "type(a)"
   ]
  },
  {
   "cell_type": "code",
   "execution_count": 12,
   "metadata": {},
   "outputs": [
    {
     "output_type": "stream",
     "name": "stdout",
     "text": "Philo is 5 and Mikey is 6.\nPhilo is a mammal.\nThe oldest dog is 8 yrs old.\nMikey is 6 yrs old.\nMikey says woof woof\nPhilo is a German Shepherd\nMikey is a Boston terrier\n"
    }
   ],
   "source": [
    "class Dog():\n",
    "    #Class attribute\n",
    "    species = \"mammal\"\n",
    "\n",
    "    #Initializer / instance attribs\n",
    "    def __init__(self, name, age, breed):\n",
    "        self.name = name\n",
    "        self.age = age\n",
    "        self.breed = breed\n",
    "\n",
    "    # Instance method\n",
    "    def description(self):\n",
    "        return \"{} is {} yrs old.\".format(self.name, self.age)\n",
    "\n",
    "    # Instance method\n",
    "    def speak(self, sound):\n",
    "        return \"{} says {}\".format(self.name, sound)\n",
    "\n",
    "#Instantiate the Dog obj\n",
    "philo = Dog(\"Philo\", 5, \"German Shepherd\")\n",
    "mikey = Dog(\"Mikey\", 6, \"Boston terrier\")\n",
    "bill = Dog(\"Bill\", 8, \"Bulldog\")\n",
    "\n",
    "#Access the instance attribs\n",
    "print(\"{} is {} and {} is {}.\".format(\n",
    "    philo.name, philo.age, mikey.name, mikey.age\n",
    "))\n",
    "\n",
    "#Is Philo a mammal?\n",
    "if philo.species == \"mammal\":\n",
    "    print(\"{0} is a {1}.\".format(philo.name, philo.species))\n",
    "\n",
    "#get oldest dog\n",
    "def get_biggest_number(*args):\n",
    "    return max(args)\n",
    "\n",
    "# Output\n",
    "print(\"The oldest dog is {} yrs old.\".format(\n",
    "    get_biggest_number(philo.age, mikey.age, bill.age)\n",
    "))\n",
    "\n",
    "# Call instance methods\n",
    "print(mikey.description())\n",
    "print(mikey.speak(\"woof woof\"))\n",
    "print(\"Philo is a {}\". format(philo.breed))\n",
    "print(\"Mikey is a {}\". format(mikey.breed))"
   ]
  },
  {
   "cell_type": "code",
   "execution_count": null,
   "metadata": {},
   "outputs": [],
   "source": []
  }
 ]
}