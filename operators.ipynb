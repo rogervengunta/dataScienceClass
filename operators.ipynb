{
 "nbformat": 4,
 "nbformat_minor": 2,
 "metadata": {
  "language_info": {
   "name": "python",
   "codemirror_mode": {
    "name": "ipython",
    "version": 3
   },
   "version": "3.7.4-final"
  },
  "orig_nbformat": 2,
  "file_extension": ".py",
  "mimetype": "text/x-python",
  "name": "python",
  "npconvert_exporter": "python",
  "pygments_lexer": "ipython3",
  "version": 3,
  "kernelspec": {
   "name": "python3",
   "display_name": "Python 3"
  }
 },
 "cells": [
  {
   "cell_type": "markdown",
   "metadata": {},
   "source": [
    "### 8 types of operators\n"
   ]
  },
  {
   "cell_type": "code",
   "execution_count": 10,
   "metadata": {},
   "outputs": [
    {
     "output_type": "stream",
     "name": "stdout",
     "text": "5.0\n4\n0.75\n0\n"
    }
   ],
   "source": [
    "# Basic division vs Floor division\n",
    "print(15/3) #returns actual value\n",
    "print(14//3) #floor division = rounds to the nearest number & always return int only\n",
    "print(3/4)\n",
    "print(3//4)"
   ]
  },
  {
   "cell_type": "code",
   "execution_count": 11,
   "metadata": {},
   "outputs": [
    {
     "output_type": "stream",
     "name": "stdout",
     "text": "8\n125\n"
    }
   ],
   "source": [
    "#exponentiation\n",
    "print(2**3)\n",
    "print(5**3)"
   ]
  },
  {
   "cell_type": "code",
   "execution_count": 22,
   "metadata": {},
   "outputs": [],
   "source": [
    "def operators(x, y):\n",
    "    a=x;\n",
    "    b=y;\n",
    "    def arith(a, b):\n",
    "        print(a+b)\n",
    "        print(a-b)\n",
    "        if a>b:\n",
    "            print(a/b)\n",
    "            print(a//b)\n",
    "        else:\n",
    "            print(a*b)\n",
    "            print(a**b)\n",
    "            print(a%b)\n",
    "\n",
    "    def relate(a,b):\n",
    "        if(a>b):\n",
    "            print(a, ' is greater than ', b)\n",
    "        else:\n",
    "            print(a, ' is less than ', b)\n",
    "\n",
    "    \n",
    "    #Unless these functions are called, the func definition won't be executed\n",
    "    arith(a,b)\n",
    "    relate(a,b)\n",
    "    "
   ]
  },
  {
   "cell_type": "code",
   "execution_count": 24,
   "metadata": {},
   "outputs": [
    {
     "output_type": "stream",
     "name": "stdout",
     "text": "9\n1\n1.25\n1\n5  is greater than  4\n"
    }
   ],
   "source": [
    "operators(5,4)"
   ]
  },
  {
   "cell_type": "code",
   "execution_count": 25,
   "metadata": {},
   "outputs": [
    {
     "output_type": "execute_result",
     "data": {
      "text/plain": "10"
     },
     "metadata": {},
     "execution_count": 25
    }
   ],
   "source": [
    "#Assignment operators\n",
    "#Assign\n",
    "a=10\n",
    "a\n"
   ]
  },
  {
   "cell_type": "code",
   "execution_count": 26,
   "metadata": {},
   "outputs": [
    {
     "output_type": "execute_result",
     "data": {
      "text/plain": "12"
     },
     "metadata": {},
     "execution_count": 26
    }
   ],
   "source": [
    "#Add and assign\n",
    "a+=2\n",
    "a"
   ]
  },
  {
   "cell_type": "code",
   "execution_count": 27,
   "metadata": {},
   "outputs": [
    {
     "output_type": "execute_result",
     "data": {
      "text/plain": "10"
     },
     "metadata": {},
     "execution_count": 27
    }
   ],
   "source": [
    "#Subtract and assign\n",
    "a-=2\n",
    "a"
   ]
  },
  {
   "cell_type": "code",
   "execution_count": 28,
   "metadata": {},
   "outputs": [
    {
     "output_type": "execute_result",
     "data": {
      "text/plain": "40"
     },
     "metadata": {},
     "execution_count": 28
    }
   ],
   "source": [
    "#multiply and assign\n",
    "a*=4\n",
    "a"
   ]
  },
  {
   "cell_type": "code",
   "execution_count": 33,
   "metadata": {},
   "outputs": [
    {
     "output_type": "stream",
     "name": "stdout",
     "text": "3\nFalse\nTrue\n"
    }
   ],
   "source": [
    "#Logical operators (bitwise operators) 1 = true, 0 = false\n",
    "print(2 and 3)\n",
    "a = 8>7 and 6>7\n",
    "print(a)\n",
    "b = 8>7 or 6>7\n",
    "print(b)"
   ]
  },
  {
   "cell_type": "code",
   "execution_count": null,
   "metadata": {},
   "outputs": [],
   "source": [
    "#(bitwise operators) 1 = true, 0 = false\n",
    "#used mostly in chip programming"
   ]
  },
  {
   "cell_type": "code",
   "execution_count": null,
   "metadata": {},
   "outputs": [],
   "source": [
    "#operator precedence in python: PEMDAS = "
   ]
  }
 ]
}