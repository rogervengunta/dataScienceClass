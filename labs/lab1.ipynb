{
 "nbformat": 4,
 "nbformat_minor": 2,
 "metadata": {
  "language_info": {
   "name": "python",
   "codemirror_mode": {
    "name": "ipython",
    "version": 3
   },
   "version": "3.7.4-final"
  },
  "orig_nbformat": 2,
  "file_extension": ".py",
  "mimetype": "text/x-python",
  "name": "python",
  "npconvert_exporter": "python",
  "pygments_lexer": "ipython3",
  "version": 3,
  "kernelspec": {
   "name": "python3",
   "display_name": "Python 3"
  }
 },
 "cells": [
  {
   "cell_type": "code",
   "execution_count": 6,
   "metadata": {},
   "outputs": [
    {
     "output_type": "stream",
     "name": "stdout",
     "text": "1\n"
    }
   ],
   "source": [
    "var1= 1\n",
    "print(var1)\n",
    "def myFunc():\n",
    "    varGlobal =3\n",
    "    print(varGlobal)\n"
   ]
  },
  {
   "cell_type": "code",
   "execution_count": 7,
   "metadata": {},
   "outputs": [
    {
     "output_type": "stream",
     "name": "stdout",
     "text": "3\n"
    }
   ],
   "source": [
    "myFunc()"
   ]
  },
  {
   "cell_type": "markdown",
   "metadata": {},
   "source": [
    "### One way of checking for data type of var and performing basic operations:"
   ]
  },
  {
   "cell_type": "code",
   "execution_count": 16,
   "metadata": {},
   "outputs": [],
   "source": [
    "a=20\n",
    "b=30\n",
    "c=40\n",
    "d=50\n",
    "e='a'\n",
    "f='b'\n",
    "g='c'\n",
    "h='d'\n",
    "\n",
    "def myFunc1():\n",
    "    #check if var is digit\n",
    "    if isinstance(a, int) and isinstance(b, int) and isinstance(c, int) and isinstance(d, int):\n",
    "        print('a,b,c and d are numbers')\n",
    "        print('a plus b plus c plus d is: ', a + b + c + d)\n",
    "    if isinstance(e, str) and isinstance(f, str):\n",
    "        print('e and f are strings')\n",
    "        print('e\\'s reference variable value plus 5 is: ', a + 5)\n",
    "        print('f\\'s reference variable value plus 5 is: ', b + 5)\n",
    "    "
   ]
  },
  {
   "cell_type": "code",
   "execution_count": 17,
   "metadata": {},
   "outputs": [
    {
     "output_type": "stream",
     "name": "stdout",
     "text": "a,b,c and d are numbers\na plus b plus c plus d id:  140\ne and f are strings\ne's reference variable value plus 5 is:  25\nf's reference variable value plus 5 is:  35\n"
    }
   ],
   "source": [
    "myFunc1()"
   ]
  },
  {
   "cell_type": "markdown",
   "metadata": {},
   "source": [
    "### Another way of doing the same above checks with different built in functions:"
   ]
  },
  {
   "cell_type": "code",
   "execution_count": 1,
   "metadata": {},
   "outputs": [],
   "source": [
    "a=20\n",
    "b=30\n",
    "c=40\n",
    "d=50\n",
    "e='a'\n",
    "f='b'\n",
    "g='c'\n",
    "h='d'\n",
    "\n",
    "def myFunc2(var):\n",
    "      # Print all global vals\n",
    "      global a\n",
    "      global b\n",
    "      global c\n",
    "      global d\n",
    "      global e\n",
    "      global f\n",
    "      global g\n",
    "      global h\n",
    "      print('******Global scope vars*******')\n",
    "      print(a)\n",
    "      print( b)\n",
    "      print( c)\n",
    "      print( d)\n",
    "      print( e)\n",
    "      print( f)\n",
    "      print( g)\n",
    "      print( h)\n",
    "\n",
    "    #IN ORDER TO DECLARE THESE LOCAL VAR W/ SAME NAME AS GLOBALS - GLOBAL KEYWORD HAS TO BE\n",
    "    #EXPLICITLY USED TO RE-DECLARE GLOBALS (ABOVE)\n",
    "      a= 60\n",
    "      b=70\n",
    "      c=80\n",
    "      d=90\n",
    "      print('******Local scope vars*******')\n",
    "      print(a)\n",
    "      print(b)\n",
    "      print(c)\n",
    "      print(d)\n",
    "\n",
    "      if a == var:\n",
    "          print(a + 5)\n"
   ]
  },
  {
   "cell_type": "code",
   "execution_count": 2,
   "metadata": {},
   "outputs": [
    {
     "output_type": "stream",
     "name": "stdout",
     "text": "******Global scope vars*******\n20\n30\n40\n50\na\nb\nc\nd\n******Local scope vars*******\n60\n70\n80\n90\n"
    }
   ],
   "source": [
    "myFunc2(a)"
   ]
  },
  {
   "cell_type": "code",
   "execution_count": null,
   "metadata": {},
   "outputs": [],
   "source": []
  }
 ]
}