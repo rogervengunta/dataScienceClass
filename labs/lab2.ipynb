{
 "cells": [
  {
   "cell_type": "code",
   "execution_count": 1,
   "metadata": {},
   "outputs": [
    {
     "output_type": "stream",
     "name": "stdout",
     "text": "3\n"
    }
   ],
   "source": [
    "#Output shape based on number of sides\n",
    "'''sides = int(input(\"Enter number of sides: \"))\n",
    "dictShapes = {3:'triangle', 4:'square', 5:'pentagon', 6:'hexagon', 7:'heptagon', 8:'octagon', 9:'nonagon', 10:'decagon'}\n",
    "if(dictShapes[0]==sides):\n",
    "    side1 = float(input(\"enter side1 of triangle: \"))\n",
    "    side2 = float(input(\"enter side2 of triangle: \"))\n",
    "    side3 = float(input(\"enter side3 of triangle: \"))\n",
    "\n",
    "    if(side1==side2==side3):\n",
    "        print(\"Equilateral triangle\")\n",
    "    elif(side1==side2 or side2==side3):\n",
    "        print('isosceles triangle')\n",
    "    else:\n",
    "        print('scalene triangle')\n",
    "elif d[1]==sides:'''\n",
    "\n",
    "shape = int(input(\"Enter sides: \"))\n",
    "\n",
    "if shape:\n",
    "    print(shape)\n"
   ]
  },
  {
   "cell_type": "code",
   "execution_count": null,
   "metadata": {},
   "outputs": [],
   "source": []
  }
 ],
 "metadata": {
  "language_info": {
   "codemirror_mode": {
    "name": "ipython",
    "version": 3
   },
   "file_extension": ".py",
   "mimetype": "text/x-python",
   "name": "python",
   "nbconvert_exporter": "python",
   "pygments_lexer": "ipython3",
   "version": "3.7.4-final"
  },
  "orig_nbformat": 2,
  "kernelspec": {
   "name": "python3",
   "display_name": "Python 3"
  }
 },
 "nbformat": 4,
 "nbformat_minor": 2
}