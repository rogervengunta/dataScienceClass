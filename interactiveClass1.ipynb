{
 "cells": [
  {
   "cell_type": "markdown",
   "metadata": {},
   "source": [
    "### How to split python statements over multiple lines"
   ]
  },
  {
   "cell_type": "code",
   "execution_count": 4,
   "metadata": {},
   "outputs": [
    {
     "output_type": "stream",
     "name": "stdout",
     "text": "multiple \nline \nstatements\n***************\nmultiple\nline statements\n"
    }
   ],
   "source": [
    "print(\"multiple \\nline \\nstatements\")\n",
    "print(\"***************\")\n",
    "print('''multiple\n",
    "line statements''')"
   ]
  },
  {
   "cell_type": "code",
   "execution_count": null,
   "metadata": {},
   "outputs": [],
   "source": [
    "# Python keywords\n",
    "# def, global, class,  and, or, from, for, none, return, nonlocal, if, elif"
   ]
  },
  {
   "cell_type": "code",
   "execution_count": 15,
   "metadata": {},
   "outputs": [
    {
     "output_type": "stream",
     "name": "stdout",
     "text": "A is 2 and b is 4\na is 2 and b is 4\n"
    }
   ],
   "source": [
    "#take 2 args and print them using f-string\n",
    "A = 2; B = 4\n",
    "print(f\"A is {A} and b is {B}\")\n",
    "#can also be written as:\n",
    "print(f\"a is {a} and b is {b}\".format(a=2, b=4))"
   ]
  },
  {
   "cell_type": "markdown",
   "metadata": {},
   "source": [
    "### DATA STRUCTURES"
   ]
  },
  {
   "cell_type": "code",
   "execution_count": 20,
   "metadata": {},
   "outputs": [
    {
     "output_type": "stream",
     "name": "stdout",
     "text": "<class 'list'>\n<class 'tuple'>\n<class 'dict'>\n<class 'set'>\n"
    }
   ],
   "source": [
    "#LISTS, TUPLES, DICTS, SETS\n",
    "myList = []\n",
    "print(type(myList))\n",
    "\n",
    "myTup = ()\n",
    "print(type(myTup))\n",
    "\n",
    "myDict = {}\n",
    "print(type(myDict))\n",
    "\n",
    "mySet = set()\n",
    "print(type(mySet))"
   ]
  },
  {
   "cell_type": "markdown",
   "metadata": {},
   "source": [
    "### Why do we need Python for Data Analysis?\n",
    "#### Python is needed for data analysis, which includes exploratory data analysis, data viz & ML"
   ]
  },
  {
   "cell_type": "markdown",
   "metadata": {},
   "source": [
    "### What is use of global keyword & where is it used?\n",
    "#### To specify global scope; use-case: when vars of same name need to be created in local scope\n",
    "#### Used within python constructs to extend the scope of local variable to global"
   ]
  },
  {
   "cell_type": "markdown",
   "metadata": {},
   "source": [
    "### What is built-in scope & provide an example\n",
    "#### Pre-defined in python as funcs or methods & various constructs; takes effect as soon as interpreter starts"
   ]
  },
  {
   "cell_type": "markdown",
   "metadata": {},
   "source": [
    "### Local scope vs enclosed scope\n",
    "#### Local scope: vars not in global & within constructs; \n",
    "#### Enclosed scope: constructs are cascaded & vars are neither local nor global & defined using nonlocal keyword to extend beyond local scope"
   ]
  },
  {
   "cell_type": "code",
   "execution_count": 22,
   "metadata": {},
   "outputs": [
    {
     "output_type": "execute_result",
     "data": {
      "text/plain": "['False',\n 'None',\n 'True',\n 'and',\n 'as',\n 'assert',\n 'async',\n 'await',\n 'break',\n 'class',\n 'continue',\n 'def',\n 'del',\n 'elif',\n 'else',\n 'except',\n 'finally',\n 'for',\n 'from',\n 'global',\n 'if',\n 'import',\n 'in',\n 'is',\n 'lambda',\n 'nonlocal',\n 'not',\n 'or',\n 'pass',\n 'raise',\n 'return',\n 'try',\n 'while',\n 'with',\n 'yield']"
     },
     "metadata": {},
     "execution_count": 22
    }
   ],
   "source": [
    "# Python lib to list & check keywords\n",
    "import keyword\n",
    "\n",
    "#keyword.iskeyword('False')\n",
    "keyword.kwlist"
   ]
  },
  {
   "cell_type": "code",
   "execution_count": 26,
   "metadata": {},
   "outputs": [
    {
     "output_type": "execute_result",
     "data": {
      "text/plain": "True"
     },
     "metadata": {},
     "execution_count": 26
    }
   ],
   "source": [
    "#To confirm if var declaration is as per python lang standards\n",
    "'global'.isidentifier()"
   ]
  },
  {
   "cell_type": "code",
   "execution_count": 27,
   "metadata": {},
   "outputs": [
    {
     "output_type": "execute_result",
     "data": {
      "text/plain": "int"
     },
     "metadata": {},
     "execution_count": 27
    }
   ],
   "source": [
    "#To check data type\n",
    "x = 10\n",
    "type(x)"
   ]
  },
  {
   "cell_type": "code",
   "execution_count": 31,
   "metadata": {},
   "outputs": [
    {
     "output_type": "execute_result",
     "data": {
      "text/plain": "False"
     },
     "metadata": {},
     "execution_count": 31
    }
   ],
   "source": [
    "#Func that takes 2 args and returns data type\n",
    "y = 5\n",
    "isinstance('y', int)"
   ]
  },
  {
   "cell_type": "code",
   "execution_count": 38,
   "metadata": {},
   "outputs": [
    {
     "output_type": "stream",
     "name": "stdout",
     "text": "hello\n"
    }
   ],
   "source": [
    "#Slicing & dicing of strings\n",
    "myStr = \"hello how are you\"\n",
    "type(myStr)\n",
    "print(myStr[:5]) #indexing"
   ]
  },
  {
   "cell_type": "markdown",
   "metadata": {},
   "source": [
    "#### Escape chars or sequences tell the interpreter to escape exec sequence of exec & consider following chunk for different purpose\n",
    "#### Eg: '', \\n"
   ]
  },
  {
   "cell_type": "code",
   "execution_count": 52,
   "metadata": {},
   "outputs": [
    {
     "output_type": "stream",
     "name": "stdout",
     "text": "15\nMaharana Pratap\\sThe Rajput King\n"
    }
   ],
   "source": [
    "#Py string funcs\n",
    "myStr2 = \"Maharana Pratap\"\n",
    "myStr3 = [ \"Maharana Pratap\", \"The Rajput King\"]\n",
    "print(len(myStr2))\n",
    "print('\\\\s'.join(myStr3))"
   ]
  },
  {
   "cell_type": "code",
   "execution_count": null,
   "metadata": {},
   "outputs": [],
   "source": []
  }
 ],
 "metadata": {
  "language_info": {
   "codemirror_mode": {
    "name": "ipython",
    "version": 3
   },
   "file_extension": ".py",
   "mimetype": "text/x-python",
   "name": "python",
   "nbconvert_exporter": "python",
   "pygments_lexer": "ipython3",
   "version": "3.7.4-final"
  },
  "orig_nbformat": 2,
  "kernelspec": {
   "name": "python3",
   "display_name": "Python 3"
  }
 },
 "nbformat": 4,
 "nbformat_minor": 2
}