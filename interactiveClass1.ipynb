{
 "cells": [
  {
   "cell_type": "markdown",
   "metadata": {},
   "source": [
    "### How to split python statements over multiple lines"
   ]
  },
  {
   "cell_type": "code",
   "execution_count": 4,
   "metadata": {},
   "outputs": [
    {
     "output_type": "stream",
     "name": "stdout",
     "text": "multiple \nline \nstatements\n***************\nmultiple\nline statements\n"
    }
   ],
   "source": [
    "print(\"multiple \\nline \\nstatements\")\n",
    "print(\"***************\")\n",
    "print('''multiple\n",
    "line statements''')"
   ]
  },
  {
   "cell_type": "code",
   "execution_count": null,
   "metadata": {},
   "outputs": [],
   "source": [
    "# Python keywords\n",
    "# def, global, class,  and, or, from, for, none, return, nonlocal, if, elif"
   ]
  },
  {
   "cell_type": "code",
   "execution_count": 15,
   "metadata": {},
   "outputs": [
    {
     "output_type": "stream",
     "name": "stdout",
     "text": "A is 2 and b is 4\na is 2 and b is 4\n"
    }
   ],
   "source": [
    "#take 2 args and print them using f-string\n",
    "A = 2; B = 4\n",
    "print(f\"A is {A} and b is {B}\")\n",
    "#can also be written as:\n",
    "print(f\"a is {a} and b is {b}\".format(a=2, b=4))"
   ]
  },
  {
   "cell_type": "markdown",
   "metadata": {},
   "source": [
    "### DATA STRUCTURES"
   ]
  },
  {
   "cell_type": "code",
   "execution_count": 20,
   "metadata": {},
   "outputs": [
    {
     "output_type": "stream",
     "name": "stdout",
     "text": "<class 'list'>\n<class 'tuple'>\n<class 'dict'>\n<class 'set'>\n"
    }
   ],
   "source": [
    "#LISTS, TUPLES, DICTS, SETS\n",
    "myList = []\n",
    "print(type(myList))\n",
    "\n",
    "myTup = ()\n",
    "print(type(myTup))\n",
    "\n",
    "myDict = {}\n",
    "print(type(myDict))\n",
    "\n",
    "mySet = set()\n",
    "print(type(mySet))"
   ]
  },
  {
   "cell_type": "code",
   "execution_count": null,
   "metadata": {},
   "outputs": [],
   "source": []
  }
 ],
 "metadata": {
  "language_info": {
   "codemirror_mode": {
    "name": "ipython",
    "version": 3
   },
   "file_extension": ".py",
   "mimetype": "text/x-python",
   "name": "python",
   "nbconvert_exporter": "python",
   "pygments_lexer": "ipython3",
   "version": "3.7.4-final"
  },
  "orig_nbformat": 2,
  "kernelspec": {
   "name": "python3",
   "display_name": "Python 3"
  }
 },
 "nbformat": 4,
 "nbformat_minor": 2
}