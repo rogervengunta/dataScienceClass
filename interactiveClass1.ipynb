{
 "cells": [
  {
   "cell_type": "markdown",
   "metadata": {},
   "source": [
    "### How to split python statements over multiple lines"
   ]
  },
  {
   "cell_type": "code",
   "execution_count": 4,
   "metadata": {},
   "outputs": [
    {
     "output_type": "stream",
     "name": "stdout",
     "text": "multiple \nline \nstatements\n***************\nmultiple\nline statements\n"
    }
   ],
   "source": [
    "print(\"multiple \\nline \\nstatements\")\n",
    "print(\"***************\")\n",
    "print('''multiple\n",
    "line statements''')"
   ]
  },
  {
   "cell_type": "code",
   "execution_count": null,
   "metadata": {},
   "outputs": [],
   "source": [
    "# Python keywords\n",
    "# def, global, class,  and, or, from, for, none, return, nonlocal, if, elif"
   ]
  },
  {
   "cell_type": "code",
   "execution_count": 15,
   "metadata": {},
   "outputs": [
    {
     "output_type": "stream",
     "name": "stdout",
     "text": "A is 2 and b is 4\na is 2 and b is 4\n"
    }
   ],
   "source": [
    "#take 2 args and print them using f-string\n",
    "A = 2; B = 4\n",
    "print(f\"A is {A} and b is {B}\")\n",
    "#can also be written as:\n",
    "print(f\"a is {a} and b is {b}\".format(a=2, b=4))"
   ]
  },
  {
   "cell_type": "markdown",
   "metadata": {},
   "source": [
    "### DATA STRUCTURES"
   ]
  },
  {
   "cell_type": "code",
   "execution_count": 20,
   "metadata": {},
   "outputs": [
    {
     "output_type": "stream",
     "name": "stdout",
     "text": "<class 'list'>\n<class 'tuple'>\n<class 'dict'>\n<class 'set'>\n"
    }
   ],
   "source": [
    "#LISTS, TUPLES, DICTS, SETS\n",
    "myList = []\n",
    "print(type(myList))\n",
    "\n",
    "myTup = ()\n",
    "print(type(myTup))\n",
    "\n",
    "myDict = {}\n",
    "print(type(myDict))\n",
    "\n",
    "mySet = set()\n",
    "print(type(mySet))"
   ]
  },
  {
   "cell_type": "markdown",
   "metadata": {},
   "source": [
    "### Why do we need Python for Data Analysis?\n",
    "#### Python is needed for data analysis, which includes exploratory data analysis, data viz & ML"
   ]
  },
  {
   "cell_type": "markdown",
   "metadata": {},
   "source": [
    "### What is use of global keyword & where is it used?\n",
    "#### To specify global scope; use-case: when vars of same name need to be created in local scope\n",
    "#### Used within python constructs to extend the scope of local variable to global"
   ]
  },
  {
   "cell_type": "markdown",
   "metadata": {},
   "source": [
    "### What is built-in scope & provide an example\n",
    "#### Pre-defined in python as funcs or methods & various constructs; takes effect as soon as interpreter starts"
   ]
  },
  {
   "cell_type": "markdown",
   "metadata": {},
   "source": [
    "### Local scope vs enclosed scope\n",
    "#### Local scope: vars not in global & within constructs; \n",
    "#### Enclosed scope: constructs are cascaded & vars are neither local nor global & defined using nonlocal keyword to extend beyond local scope"
   ]
  }
 ],
 "metadata": {
  "language_info": {
   "codemirror_mode": {
    "name": "ipython",
    "version": 3
   },
   "file_extension": ".py",
   "mimetype": "text/x-python",
   "name": "python",
   "nbconvert_exporter": "python",
   "pygments_lexer": "ipython3",
   "version": "3.7.4-final"
  },
  "orig_nbformat": 2,
  "kernelspec": {
   "name": "python3",
   "display_name": "Python 3"
  }
 },
 "nbformat": 4,
 "nbformat_minor": 2
}